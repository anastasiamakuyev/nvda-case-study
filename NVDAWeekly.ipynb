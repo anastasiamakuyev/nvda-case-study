{
 "cells": [
  {
   "cell_type": "code",
   "execution_count": 1,
   "id": "5a05b81d",
   "metadata": {},
   "outputs": [],
   "source": [
    "import yfinance as yf\n",
    "import pandas as pd"
   ]
  },
  {
   "cell_type": "code",
   "execution_count": 2,
   "id": "2d05268f",
   "metadata": {},
   "outputs": [],
   "source": [
    "nvda = yf.Ticker(\"NVDA\")"
   ]
  },
  {
   "cell_type": "code",
   "execution_count": 3,
   "id": "958c4683",
   "metadata": {},
   "outputs": [],
   "source": [
    "nvda = nvda.history(period=\"max\", interval=\"1wk\")"
   ]
  },
  {
   "cell_type": "code",
   "execution_count": 4,
   "id": "46a620d2",
   "metadata": {},
   "outputs": [
    {
     "data": {
      "text/html": [
       "<div>\n",
       "<style scoped>\n",
       "    .dataframe tbody tr th:only-of-type {\n",
       "        vertical-align: middle;\n",
       "    }\n",
       "\n",
       "    .dataframe tbody tr th {\n",
       "        vertical-align: top;\n",
       "    }\n",
       "\n",
       "    .dataframe thead th {\n",
       "        text-align: right;\n",
       "    }\n",
       "</style>\n",
       "<table border=\"1\" class=\"dataframe\">\n",
       "  <thead>\n",
       "    <tr style=\"text-align: right;\">\n",
       "      <th></th>\n",
       "      <th>Open</th>\n",
       "      <th>High</th>\n",
       "      <th>Low</th>\n",
       "      <th>Close</th>\n",
       "      <th>Volume</th>\n",
       "      <th>Dividends</th>\n",
       "      <th>Stock Splits</th>\n",
       "    </tr>\n",
       "    <tr>\n",
       "      <th>Date</th>\n",
       "      <th></th>\n",
       "      <th></th>\n",
       "      <th></th>\n",
       "      <th></th>\n",
       "      <th></th>\n",
       "      <th></th>\n",
       "      <th></th>\n",
       "    </tr>\n",
       "  </thead>\n",
       "  <tbody>\n",
       "    <tr>\n",
       "      <th>1999-01-18 00:00:00-05:00</th>\n",
       "      <td>0.401407</td>\n",
       "      <td>0.447998</td>\n",
       "      <td>0.356010</td>\n",
       "      <td>0.376319</td>\n",
       "      <td>271468800</td>\n",
       "      <td>0.00</td>\n",
       "      <td>0.0</td>\n",
       "    </tr>\n",
       "    <tr>\n",
       "      <th>1999-01-25 00:00:00-05:00</th>\n",
       "      <td>0.406185</td>\n",
       "      <td>0.428884</td>\n",
       "      <td>0.363177</td>\n",
       "      <td>0.363177</td>\n",
       "      <td>156960000</td>\n",
       "      <td>0.00</td>\n",
       "      <td>0.0</td>\n",
       "    </tr>\n",
       "    <tr>\n",
       "      <th>1999-02-01 00:00:00-05:00</th>\n",
       "      <td>0.363177</td>\n",
       "      <td>0.382293</td>\n",
       "      <td>0.330922</td>\n",
       "      <td>0.378708</td>\n",
       "      <td>81268800</td>\n",
       "      <td>0.00</td>\n",
       "      <td>0.0</td>\n",
       "    </tr>\n",
       "    <tr>\n",
       "      <th>1999-02-08 00:00:00-05:00</th>\n",
       "      <td>0.381098</td>\n",
       "      <td>0.401407</td>\n",
       "      <td>0.341674</td>\n",
       "      <td>0.399018</td>\n",
       "      <td>63124800</td>\n",
       "      <td>0.00</td>\n",
       "      <td>0.0</td>\n",
       "    </tr>\n",
       "    <tr>\n",
       "      <th>1999-02-15 00:00:00-05:00</th>\n",
       "      <td>0.406185</td>\n",
       "      <td>0.422911</td>\n",
       "      <td>0.360788</td>\n",
       "      <td>0.399018</td>\n",
       "      <td>42480000</td>\n",
       "      <td>0.00</td>\n",
       "      <td>0.0</td>\n",
       "    </tr>\n",
       "    <tr>\n",
       "      <th>...</th>\n",
       "      <td>...</td>\n",
       "      <td>...</td>\n",
       "      <td>...</td>\n",
       "      <td>...</td>\n",
       "      <td>...</td>\n",
       "      <td>...</td>\n",
       "      <td>...</td>\n",
       "    </tr>\n",
       "    <tr>\n",
       "      <th>2023-05-15 00:00:00-04:00</th>\n",
       "      <td>285.050490</td>\n",
       "      <td>318.247067</td>\n",
       "      <td>281.490860</td>\n",
       "      <td>312.607666</td>\n",
       "      <td>239771500</td>\n",
       "      <td>0.00</td>\n",
       "      <td>0.0</td>\n",
       "    </tr>\n",
       "    <tr>\n",
       "      <th>2023-05-22 00:00:00-04:00</th>\n",
       "      <td>308.978024</td>\n",
       "      <td>394.759121</td>\n",
       "      <td>298.029145</td>\n",
       "      <td>389.419678</td>\n",
       "      <td>370798000</td>\n",
       "      <td>0.00</td>\n",
       "      <td>0.0</td>\n",
       "    </tr>\n",
       "    <tr>\n",
       "      <th>2023-05-29 00:00:00-04:00</th>\n",
       "      <td>405.908021</td>\n",
       "      <td>419.336624</td>\n",
       "      <td>378.180878</td>\n",
       "      <td>393.229309</td>\n",
       "      <td>304350900</td>\n",
       "      <td>0.00</td>\n",
       "      <td>0.0</td>\n",
       "    </tr>\n",
       "    <tr>\n",
       "      <th>2023-06-05 00:00:00-04:00</th>\n",
       "      <td>389.049722</td>\n",
       "      <td>397.068881</td>\n",
       "      <td>373.521331</td>\n",
       "      <td>387.659882</td>\n",
       "      <td>214181300</td>\n",
       "      <td>0.04</td>\n",
       "      <td>0.0</td>\n",
       "    </tr>\n",
       "    <tr>\n",
       "      <th>2023-06-12 00:00:00-04:00</th>\n",
       "      <td>390.369995</td>\n",
       "      <td>393.250000</td>\n",
       "      <td>389.750000</td>\n",
       "      <td>391.359985</td>\n",
       "      <td>2611357</td>\n",
       "      <td>0.00</td>\n",
       "      <td>0.0</td>\n",
       "    </tr>\n",
       "  </tbody>\n",
       "</table>\n",
       "<p>1274 rows × 7 columns</p>\n",
       "</div>"
      ],
      "text/plain": [
       "                                 Open        High         Low       Close  \\\n",
       "Date                                                                        \n",
       "1999-01-18 00:00:00-05:00    0.401407    0.447998    0.356010    0.376319   \n",
       "1999-01-25 00:00:00-05:00    0.406185    0.428884    0.363177    0.363177   \n",
       "1999-02-01 00:00:00-05:00    0.363177    0.382293    0.330922    0.378708   \n",
       "1999-02-08 00:00:00-05:00    0.381098    0.401407    0.341674    0.399018   \n",
       "1999-02-15 00:00:00-05:00    0.406185    0.422911    0.360788    0.399018   \n",
       "...                               ...         ...         ...         ...   \n",
       "2023-05-15 00:00:00-04:00  285.050490  318.247067  281.490860  312.607666   \n",
       "2023-05-22 00:00:00-04:00  308.978024  394.759121  298.029145  389.419678   \n",
       "2023-05-29 00:00:00-04:00  405.908021  419.336624  378.180878  393.229309   \n",
       "2023-06-05 00:00:00-04:00  389.049722  397.068881  373.521331  387.659882   \n",
       "2023-06-12 00:00:00-04:00  390.369995  393.250000  389.750000  391.359985   \n",
       "\n",
       "                              Volume  Dividends  Stock Splits  \n",
       "Date                                                           \n",
       "1999-01-18 00:00:00-05:00  271468800       0.00           0.0  \n",
       "1999-01-25 00:00:00-05:00  156960000       0.00           0.0  \n",
       "1999-02-01 00:00:00-05:00   81268800       0.00           0.0  \n",
       "1999-02-08 00:00:00-05:00   63124800       0.00           0.0  \n",
       "1999-02-15 00:00:00-05:00   42480000       0.00           0.0  \n",
       "...                              ...        ...           ...  \n",
       "2023-05-15 00:00:00-04:00  239771500       0.00           0.0  \n",
       "2023-05-22 00:00:00-04:00  370798000       0.00           0.0  \n",
       "2023-05-29 00:00:00-04:00  304350900       0.00           0.0  \n",
       "2023-06-05 00:00:00-04:00  214181300       0.04           0.0  \n",
       "2023-06-12 00:00:00-04:00    2611357       0.00           0.0  \n",
       "\n",
       "[1274 rows x 7 columns]"
      ]
     },
     "execution_count": 4,
     "metadata": {},
     "output_type": "execute_result"
    }
   ],
   "source": [
    "nvda"
   ]
  },
  {
   "cell_type": "code",
   "execution_count": 5,
   "id": "e9e02908",
   "metadata": {},
   "outputs": [
    {
     "data": {
      "text/plain": [
       "DatetimeIndex(['1999-01-18 00:00:00-05:00', '1999-01-25 00:00:00-05:00',\n",
       "               '1999-02-01 00:00:00-05:00', '1999-02-08 00:00:00-05:00',\n",
       "               '1999-02-15 00:00:00-05:00', '1999-02-22 00:00:00-05:00',\n",
       "               '1999-03-01 00:00:00-05:00', '1999-03-08 00:00:00-05:00',\n",
       "               '1999-03-15 00:00:00-05:00', '1999-03-22 00:00:00-05:00',\n",
       "               ...\n",
       "               '2023-04-10 00:00:00-04:00', '2023-04-17 00:00:00-04:00',\n",
       "               '2023-04-24 00:00:00-04:00', '2023-05-01 00:00:00-04:00',\n",
       "               '2023-05-08 00:00:00-04:00', '2023-05-15 00:00:00-04:00',\n",
       "               '2023-05-22 00:00:00-04:00', '2023-05-29 00:00:00-04:00',\n",
       "               '2023-06-05 00:00:00-04:00', '2023-06-12 00:00:00-04:00'],\n",
       "              dtype='datetime64[ns, America/New_York]', name='Date', length=1274, freq=None)"
      ]
     },
     "execution_count": 5,
     "metadata": {},
     "output_type": "execute_result"
    }
   ],
   "source": [
    "nvda.index"
   ]
  },
  {
   "cell_type": "code",
   "execution_count": 6,
   "id": "2b046bf1",
   "metadata": {},
   "outputs": [
    {
     "data": {
      "text/plain": [
       "<Axes: xlabel='Date'>"
      ]
     },
     "execution_count": 6,
     "metadata": {},
     "output_type": "execute_result"
    },
    {
     "data": {
      "image/png": "[encoded data removed]",
      "text/plain": [
       "<Figure size 640x480 with 1 Axes>"
      ]
     },
     "metadata": {},
     "output_type": "display_data"
    }
   ],
   "source": [
    "nvda.plot.line(y=\"Close\", use_index=True)"
   ]
  },
  {
   "cell_type": "code",
   "execution_count": 7,
   "id": "8dd67ef4",
   "metadata": {},
   "outputs": [],
   "source": [
    "del nvda[\"Dividends\"]\n",
    "del nvda[\"Stock Splits\"]"
   ]
  },
  {
   "cell_type": "code",
   "execution_count": 8,
   "id": "7d3c02b6",
   "metadata": {},
   "outputs": [],
   "source": [
    "from sklearn.linear_model import Ridge\n",
    "\n",
    "reg = Ridge(alpha=.1)"
   ]
  },
  {
   "cell_type": "code",
   "execution_count": 9,
   "id": "3d38d035",
   "metadata": {},
   "outputs": [],
   "source": [
    "nvda[\"NextYear\"] = nvda[\"Close\"].shift(-50)"
   ]
  },
  {
   "cell_type": "code",
   "execution_count": 10,
   "id": "36e95891",
   "metadata": {},
   "outputs": [],
   "source": [
    "nvda[\"Target\"] = nvda[\"NextYear\"]"
   ]
  },
  {
   "cell_type": "code",
   "execution_count": 11,
   "id": "d64e4681",
   "metadata": {},
   "outputs": [],
   "source": [
    "from sklearn.linear_model import Ridge\n",
    "\n",
    "reg = Ridge(alpha=.1)"
   ]
  },
  {
   "cell_type": "code",
   "execution_count": null,
   "id": "db6c6168",
   "metadata": {},
   "outputs": [],
   "source": []
  },
  {
   "cell_type": "code",
   "execution_count": 12,
   "id": "5fe8c2c0",
   "metadata": {},
   "outputs": [],
   "source": [
    "predictors = [\"Close\", \"Volume\", \"Open\", \"High\", \"Low\"]"
   ]
  },
  {
   "cell_type": "code",
   "execution_count": 13,
   "id": "9755ecaf",
   "metadata": {},
   "outputs": [],
   "source": [
    "train = nvda.iloc[:-50]\n",
    "test = nvda"
   ]
  },
  {
   "cell_type": "code",
   "execution_count": 14,
   "id": "17eb8113",
   "metadata": {},
   "outputs": [
    {
     "name": "stderr",
     "output_type": "stream",
     "text": [
      "/Library/Frameworks/Python.framework/Versions/3.11/lib/python3.11/site-packages/sklearn/linear_model/_ridge.py:216: LinAlgWarning: Ill-conditioned matrix (rcond=3.03853e-17): result may not be accurate.\n",
      "  return linalg.solve(A, Xy, assume_a=\"pos\", overwrite_a=True).T\n"
     ]
    },
    {
     "data": {
      "text/html": [
       "<style>#sk-container-id-1 {color: black;background-color: white;}#sk-container-id-1 pre{padding: 0;}#sk-container-id-1 div.sk-toggleable {background-color: white;}#sk-container-id-1 label.sk-toggleable__label {cursor: pointer;display: block;width: 100%;margin-bottom: 0;padding: 0.3em;box-sizing: border-box;text-align: center;}#sk-container-id-1 label.sk-toggleable__label-arrow:before {content: \"▸\";float: left;margin-right: 0.25em;color: #696969;}#sk-container-id-1 label.sk-toggleable__label-arrow:hover:before {color: black;}#sk-container-id-1 div.sk-estimator:hover label.sk-toggleable__label-arrow:before {color: black;}#sk-container-id-1 div.sk-toggleable__content {max-height: 0;max-width: 0;overflow: hidden;text-align: left;background-color: #f0f8ff;}#sk-container-id-1 div.sk-toggleable__content pre {margin: 0.2em;color: black;border-radius: 0.25em;background-color: #f0f8ff;}#sk-container-id-1 input.sk-toggleable__control:checked~div.sk-toggleable__content {max-height: 200px;max-width: 100%;overflow: auto;}#sk-container-id-1 input.sk-toggleable__control:checked~label.sk-toggleable__label-arrow:before {content: \"▾\";}#sk-container-id-1 div.sk-estimator input.sk-toggleable__control:checked~label.sk-toggleable__label {background-color: #d4ebff;}#sk-container-id-1 div.sk-label input.sk-toggleable__control:checked~label.sk-toggleable__label {background-color: #d4ebff;}#sk-container-id-1 input.sk-hidden--visually {border: 0;clip: rect(1px 1px 1px 1px);clip: rect(1px, 1px, 1px, 1px);height: 1px;margin: -1px;overflow: hidden;padding: 0;position: absolute;width: 1px;}#sk-container-id-1 div.sk-estimator {font-family: monospace;background-color: #f0f8ff;border: 1px dotted black;border-radius: 0.25em;box-sizing: border-box;margin-bottom: 0.5em;}#sk-container-id-1 div.sk-estimator:hover {background-color: #d4ebff;}#sk-container-id-1 div.sk-parallel-item::after {content: \"\";width: 100%;border-bottom: 1px solid gray;flex-grow: 1;}#sk-container-id-1 div.sk-label:hover label.sk-toggleable__label {background-color: #d4ebff;}#sk-container-id-1 div.sk-serial::before {content: \"\";position: absolute;border-left: 1px solid gray;box-sizing: border-box;top: 0;bottom: 0;left: 50%;z-index: 0;}#sk-container-id-1 div.sk-serial {display: flex;flex-direction: column;align-items: center;background-color: white;padding-right: 0.2em;padding-left: 0.2em;position: relative;}#sk-container-id-1 div.sk-item {position: relative;z-index: 1;}#sk-container-id-1 div.sk-parallel {display: flex;align-items: stretch;justify-content: center;background-color: white;position: relative;}#sk-container-id-1 div.sk-item::before, #sk-container-id-1 div.sk-parallel-item::before {content: \"\";position: absolute;border-left: 1px solid gray;box-sizing: border-box;top: 0;bottom: 0;left: 50%;z-index: -1;}#sk-container-id-1 div.sk-parallel-item {display: flex;flex-direction: column;z-index: 1;position: relative;background-color: white;}#sk-container-id-1 div.sk-parallel-item:first-child::after {align-self: flex-end;width: 50%;}#sk-container-id-1 div.sk-parallel-item:last-child::after {align-self: flex-start;width: 50%;}#sk-container-id-1 div.sk-parallel-item:only-child::after {width: 0;}#sk-container-id-1 div.sk-dashed-wrapped {border: 1px dashed gray;margin: 0 0.4em 0.5em 0.4em;box-sizing: border-box;padding-bottom: 0.4em;background-color: white;}#sk-container-id-1 div.sk-label label {font-family: monospace;font-weight: bold;display: inline-block;line-height: 1.2em;}#sk-container-id-1 div.sk-label-container {text-align: center;}#sk-container-id-1 div.sk-container {/* jupyter's `normalize.less` sets `[hidden] { display: none; }` but bootstrap.min.css set `[hidden] { display: none !important; }` so we also need the `!important` here to be able to override the default hidden behavior on the sphinx rendered scikit-learn.org. See: https://github.com/scikit-learn/scikit-learn/issues/21755 */display: inline-block !important;position: relative;}#sk-container-id-1 div.sk-text-repr-fallback {display: none;}</style><div id=\"sk-container-id-1\" class=\"sk-top-container\"><div class=\"sk-text-repr-fallback\"><pre>Ridge(alpha=0.1)</pre><b>In a Jupyter environment, please rerun this cell to show the HTML representation or trust the notebook. <br />On GitHub, the HTML representation is unable to render, please try loading this page with nbviewer.org.</b></div><div class=\"sk-container\" hidden><div class=\"sk-item\"><div class=\"sk-estimator sk-toggleable\"><input class=\"sk-toggleable__control sk-hidden--visually\" id=\"sk-estimator-id-1\" type=\"checkbox\" checked><label for=\"sk-estimator-id-1\" class=\"sk-toggleable__label sk-toggleable__label-arrow\">Ridge</label><div class=\"sk-toggleable__content\"><pre>Ridge(alpha=0.1)</pre></div></div></div></div></div>"
      ],
      "text/plain": [
       "Ridge(alpha=0.1)"
      ]
     },
     "execution_count": 14,
     "metadata": {},
     "output_type": "execute_result"
    }
   ],
   "source": [
    "reg.fit(train[predictors],train[\"Target\"])"
   ]
  },
  {
   "cell_type": "code",
   "execution_count": 15,
   "id": "06effea8",
   "metadata": {},
   "outputs": [],
   "source": [
    "predictions = reg.predict(test[predictors])"
   ]
  },
  {
   "cell_type": "code",
   "execution_count": null,
   "id": "ad9bc8c4",
   "metadata": {},
   "outputs": [],
   "source": []
  },
  {
   "cell_type": "code",
   "execution_count": null,
   "id": "bac930c6",
   "metadata": {},
   "outputs": [],
   "source": []
  },
  {
   "cell_type": "code",
   "execution_count": 16,
   "id": "9435a772",
   "metadata": {},
   "outputs": [],
   "source": [
    "combined = pd.concat([test[\"Target\"], pd.Series(predictions, index=test.index)], axis=1)"
   ]
  },
  {
   "cell_type": "code",
   "execution_count": 17,
   "id": "266b3c9e",
   "metadata": {},
   "outputs": [],
   "source": [
    "combined.columns = [\"actual\", \"predictions\"]"
   ]
  },
  {
   "cell_type": "code",
   "execution_count": 18,
   "id": "5ff4e85c",
   "metadata": {},
   "outputs": [
    {
     "data": {
      "text/html": [
       "<div>\n",
       "<style scoped>\n",
       "    .dataframe tbody tr th:only-of-type {\n",
       "        vertical-align: middle;\n",
       "    }\n",
       "\n",
       "    .dataframe tbody tr th {\n",
       "        vertical-align: top;\n",
       "    }\n",
       "\n",
       "    .dataframe thead th {\n",
       "        text-align: right;\n",
       "    }\n",
       "</style>\n",
       "<table border=\"1\" class=\"dataframe\">\n",
       "  <thead>\n",
       "    <tr style=\"text-align: right;\">\n",
       "      <th></th>\n",
       "      <th>actual</th>\n",
       "      <th>predictions</th>\n",
       "    </tr>\n",
       "    <tr>\n",
       "      <th>Date</th>\n",
       "      <th></th>\n",
       "      <th></th>\n",
       "    </tr>\n",
       "  </thead>\n",
       "  <tbody>\n",
       "    <tr>\n",
       "      <th>1999-01-18 00:00:00-05:00</th>\n",
       "      <td>0.800425</td>\n",
       "      <td>7.837587</td>\n",
       "    </tr>\n",
       "    <tr>\n",
       "      <th>1999-01-25 00:00:00-05:00</th>\n",
       "      <td>0.839849</td>\n",
       "      <td>9.672283</td>\n",
       "    </tr>\n",
       "    <tr>\n",
       "      <th>1999-02-01 00:00:00-05:00</th>\n",
       "      <td>0.855379</td>\n",
       "      <td>10.891456</td>\n",
       "    </tr>\n",
       "    <tr>\n",
       "      <th>1999-02-08 00:00:00-05:00</th>\n",
       "      <td>0.714409</td>\n",
       "      <td>11.191522</td>\n",
       "    </tr>\n",
       "    <tr>\n",
       "      <th>1999-02-15 00:00:00-05:00</th>\n",
       "      <td>0.775336</td>\n",
       "      <td>11.517041</td>\n",
       "    </tr>\n",
       "    <tr>\n",
       "      <th>...</th>\n",
       "      <td>...</td>\n",
       "      <td>...</td>\n",
       "    </tr>\n",
       "    <tr>\n",
       "      <th>2023-05-15 00:00:00-04:00</th>\n",
       "      <td>NaN</td>\n",
       "      <td>292.841372</td>\n",
       "    </tr>\n",
       "    <tr>\n",
       "      <th>2023-05-22 00:00:00-04:00</th>\n",
       "      <td>NaN</td>\n",
       "      <td>229.452979</td>\n",
       "    </tr>\n",
       "    <tr>\n",
       "      <th>2023-05-29 00:00:00-04:00</th>\n",
       "      <td>NaN</td>\n",
       "      <td>433.155541</td>\n",
       "    </tr>\n",
       "    <tr>\n",
       "      <th>2023-06-05 00:00:00-04:00</th>\n",
       "      <td>NaN</td>\n",
       "      <td>451.540266</td>\n",
       "    </tr>\n",
       "    <tr>\n",
       "      <th>2023-06-12 00:00:00-04:00</th>\n",
       "      <td>NaN</td>\n",
       "      <td>482.558508</td>\n",
       "    </tr>\n",
       "  </tbody>\n",
       "</table>\n",
       "<p>1274 rows × 2 columns</p>\n",
       "</div>"
      ],
      "text/plain": [
       "                             actual  predictions\n",
       "Date                                            \n",
       "1999-01-18 00:00:00-05:00  0.800425     7.837587\n",
       "1999-01-25 00:00:00-05:00  0.839849     9.672283\n",
       "1999-02-01 00:00:00-05:00  0.855379    10.891456\n",
       "1999-02-08 00:00:00-05:00  0.714409    11.191522\n",
       "1999-02-15 00:00:00-05:00  0.775336    11.517041\n",
       "...                             ...          ...\n",
       "2023-05-15 00:00:00-04:00       NaN   292.841372\n",
       "2023-05-22 00:00:00-04:00       NaN   229.452979\n",
       "2023-05-29 00:00:00-04:00       NaN   433.155541\n",
       "2023-06-05 00:00:00-04:00       NaN   451.540266\n",
       "2023-06-12 00:00:00-04:00       NaN   482.558508\n",
       "\n",
       "[1274 rows x 2 columns]"
      ]
     },
     "execution_count": 18,
     "metadata": {},
     "output_type": "execute_result"
    }
   ],
   "source": [
    "combined"
   ]
  },
  {
   "cell_type": "code",
   "execution_count": 19,
   "id": "7e498827",
   "metadata": {
    "scrolled": true
   },
   "outputs": [
    {
     "data": {
      "text/plain": [
       "<Axes: xlabel='Date'>"
      ]
     },
     "execution_count": 19,
     "metadata": {},
     "output_type": "execute_result"
    },
    {
     "data": {
      "image/png": "[encoded data removed]",
      "text/plain": [
       "<Figure size 640x480 with 1 Axes>"
      ]
     },
     "metadata": {},
     "output_type": "display_data"
    }
   ],
   "source": [
    "combined.plot()"
   ]
  },
  {
   "cell_type": "code",
   "execution_count": 20,
   "id": "edbac2ff",
   "metadata": {},
   "outputs": [],
   "source": [
    "myResults = combined.iloc[-60:]"
   ]
  },
  {
   "cell_type": "code",
   "execution_count": 21,
   "id": "1b7a1baa",
   "metadata": {},
   "outputs": [
    {
     "data": {
      "text/plain": [
       "<Axes: xlabel='Date'>"
      ]
     },
     "execution_count": 21,
     "metadata": {},
     "output_type": "execute_result"
    },
    {
     "data": {
      "image/png": "[encoded data removed]",
      "text/plain": [
       "<Figure size 640x480 with 1 Axes>"
      ]
     },
     "metadata": {},
     "output_type": "display_data"
    }
   ],
   "source": [
    "myResults.plot()"
   ]
  },
  {
   "cell_type": "code",
   "execution_count": 22,
   "id": "df21a60d",
   "metadata": {},
   "outputs": [
    {
     "data": {
      "text/html": [
       "<div>\n",
       "<style scoped>\n",
       "    .dataframe tbody tr th:only-of-type {\n",
       "        vertical-align: middle;\n",
       "    }\n",
       "\n",
       "    .dataframe tbody tr th {\n",
       "        vertical-align: top;\n",
       "    }\n",
       "\n",
       "    .dataframe thead th {\n",
       "        text-align: right;\n",
       "    }\n",
       "</style>\n",
       "<table border=\"1\" class=\"dataframe\">\n",
       "  <thead>\n",
       "    <tr style=\"text-align: right;\">\n",
       "      <th></th>\n",
       "      <th>actual</th>\n",
       "      <th>predictions</th>\n",
       "    </tr>\n",
       "    <tr>\n",
       "      <th>Date</th>\n",
       "      <th></th>\n",
       "      <th></th>\n",
       "    </tr>\n",
       "  </thead>\n",
       "  <tbody>\n",
       "    <tr>\n",
       "      <th>2022-04-25 00:00:00-04:00</th>\n",
       "      <td>267.552307</td>\n",
       "      <td>201.153394</td>\n",
       "    </tr>\n",
       "    <tr>\n",
       "      <th>2022-05-02 00:00:00-04:00</th>\n",
       "      <td>271.161926</td>\n",
       "      <td>177.260938</td>\n",
       "    </tr>\n",
       "    <tr>\n",
       "      <th>2022-05-09 00:00:00-04:00</th>\n",
       "      <td>277.461273</td>\n",
       "      <td>203.905304</td>\n",
       "    </tr>\n",
       "    <tr>\n",
       "      <th>2022-05-16 00:00:00-04:00</th>\n",
       "      <td>286.770325</td>\n",
       "      <td>175.790200</td>\n",
       "    </tr>\n",
       "    <tr>\n",
       "      <th>2022-05-23 00:00:00-04:00</th>\n",
       "      <td>283.370667</td>\n",
       "      <td>158.521436</td>\n",
       "    </tr>\n",
       "    <tr>\n",
       "      <th>2022-05-30 00:00:00-04:00</th>\n",
       "      <td>312.607666</td>\n",
       "      <td>213.329158</td>\n",
       "    </tr>\n",
       "    <tr>\n",
       "      <th>2022-06-06 00:00:00-04:00</th>\n",
       "      <td>389.419678</td>\n",
       "      <td>196.463696</td>\n",
       "    </tr>\n",
       "    <tr>\n",
       "      <th>2022-06-13 00:00:00-04:00</th>\n",
       "      <td>393.229309</td>\n",
       "      <td>172.232225</td>\n",
       "    </tr>\n",
       "    <tr>\n",
       "      <th>2022-06-20 00:00:00-04:00</th>\n",
       "      <td>387.659882</td>\n",
       "      <td>196.335179</td>\n",
       "    </tr>\n",
       "    <tr>\n",
       "      <th>2022-06-27 00:00:00-04:00</th>\n",
       "      <td>391.359985</td>\n",
       "      <td>166.960972</td>\n",
       "    </tr>\n",
       "    <tr>\n",
       "      <th>2022-07-04 00:00:00-04:00</th>\n",
       "      <td>NaN</td>\n",
       "      <td>147.820813</td>\n",
       "    </tr>\n",
       "    <tr>\n",
       "      <th>2022-07-11 00:00:00-04:00</th>\n",
       "      <td>NaN</td>\n",
       "      <td>188.624642</td>\n",
       "    </tr>\n",
       "    <tr>\n",
       "      <th>2022-07-18 00:00:00-04:00</th>\n",
       "      <td>NaN</td>\n",
       "      <td>163.155160</td>\n",
       "    </tr>\n",
       "    <tr>\n",
       "      <th>2022-07-25 00:00:00-04:00</th>\n",
       "      <td>NaN</td>\n",
       "      <td>192.408546</td>\n",
       "    </tr>\n",
       "    <tr>\n",
       "      <th>2022-08-01 00:00:00-04:00</th>\n",
       "      <td>NaN</td>\n",
       "      <td>208.107024</td>\n",
       "    </tr>\n",
       "    <tr>\n",
       "      <th>2022-08-08 00:00:00-04:00</th>\n",
       "      <td>NaN</td>\n",
       "      <td>196.912003</td>\n",
       "    </tr>\n",
       "    <tr>\n",
       "      <th>2022-08-15 00:00:00-04:00</th>\n",
       "      <td>NaN</td>\n",
       "      <td>207.268146</td>\n",
       "    </tr>\n",
       "    <tr>\n",
       "      <th>2022-08-22 00:00:00-04:00</th>\n",
       "      <td>NaN</td>\n",
       "      <td>184.931441</td>\n",
       "    </tr>\n",
       "    <tr>\n",
       "      <th>2022-08-29 00:00:00-04:00</th>\n",
       "      <td>NaN</td>\n",
       "      <td>147.186303</td>\n",
       "    </tr>\n",
       "    <tr>\n",
       "      <th>2022-09-05 00:00:00-04:00</th>\n",
       "      <td>NaN</td>\n",
       "      <td>161.146327</td>\n",
       "    </tr>\n",
       "    <tr>\n",
       "      <th>2022-09-12 00:00:00-04:00</th>\n",
       "      <td>NaN</td>\n",
       "      <td>153.270809</td>\n",
       "    </tr>\n",
       "    <tr>\n",
       "      <th>2022-09-19 00:00:00-04:00</th>\n",
       "      <td>NaN</td>\n",
       "      <td>124.829585</td>\n",
       "    </tr>\n",
       "    <tr>\n",
       "      <th>2022-09-26 00:00:00-04:00</th>\n",
       "      <td>NaN</td>\n",
       "      <td>143.054025</td>\n",
       "    </tr>\n",
       "    <tr>\n",
       "      <th>2022-10-03 00:00:00-04:00</th>\n",
       "      <td>NaN</td>\n",
       "      <td>113.687458</td>\n",
       "    </tr>\n",
       "    <tr>\n",
       "      <th>2022-10-10 00:00:00-04:00</th>\n",
       "      <td>NaN</td>\n",
       "      <td>134.260967</td>\n",
       "    </tr>\n",
       "    <tr>\n",
       "      <th>2022-10-17 00:00:00-04:00</th>\n",
       "      <td>NaN</td>\n",
       "      <td>123.272656</td>\n",
       "    </tr>\n",
       "    <tr>\n",
       "      <th>2022-10-24 00:00:00-04:00</th>\n",
       "      <td>NaN</td>\n",
       "      <td>136.146584</td>\n",
       "    </tr>\n",
       "    <tr>\n",
       "      <th>2022-10-31 00:00:00-04:00</th>\n",
       "      <td>NaN</td>\n",
       "      <td>163.798758</td>\n",
       "    </tr>\n",
       "    <tr>\n",
       "      <th>2022-11-07 00:00:00-05:00</th>\n",
       "      <td>NaN</td>\n",
       "      <td>142.620018</td>\n",
       "    </tr>\n",
       "    <tr>\n",
       "      <th>2022-11-14 00:00:00-05:00</th>\n",
       "      <td>NaN</td>\n",
       "      <td>165.996715</td>\n",
       "    </tr>\n",
       "    <tr>\n",
       "      <th>2022-11-21 00:00:00-05:00</th>\n",
       "      <td>NaN</td>\n",
       "      <td>168.296162</td>\n",
       "    </tr>\n",
       "    <tr>\n",
       "      <th>2022-11-28 00:00:00-05:00</th>\n",
       "      <td>NaN</td>\n",
       "      <td>176.612763</td>\n",
       "    </tr>\n",
       "    <tr>\n",
       "      <th>2022-12-05 00:00:00-05:00</th>\n",
       "      <td>NaN</td>\n",
       "      <td>185.031706</td>\n",
       "    </tr>\n",
       "    <tr>\n",
       "      <th>2022-12-12 00:00:00-05:00</th>\n",
       "      <td>NaN</td>\n",
       "      <td>154.263609</td>\n",
       "    </tr>\n",
       "    <tr>\n",
       "      <th>2022-12-19 00:00:00-05:00</th>\n",
       "      <td>NaN</td>\n",
       "      <td>183.212234</td>\n",
       "    </tr>\n",
       "    <tr>\n",
       "      <th>2022-12-26 00:00:00-05:00</th>\n",
       "      <td>NaN</td>\n",
       "      <td>181.271716</td>\n",
       "    </tr>\n",
       "    <tr>\n",
       "      <th>2023-01-02 00:00:00-05:00</th>\n",
       "      <td>NaN</td>\n",
       "      <td>182.484554</td>\n",
       "    </tr>\n",
       "    <tr>\n",
       "      <th>2023-01-09 00:00:00-05:00</th>\n",
       "      <td>NaN</td>\n",
       "      <td>167.325356</td>\n",
       "    </tr>\n",
       "    <tr>\n",
       "      <th>2023-01-16 00:00:00-05:00</th>\n",
       "      <td>NaN</td>\n",
       "      <td>198.301702</td>\n",
       "    </tr>\n",
       "    <tr>\n",
       "      <th>2023-01-23 00:00:00-05:00</th>\n",
       "      <td>NaN</td>\n",
       "      <td>181.631730</td>\n",
       "    </tr>\n",
       "    <tr>\n",
       "      <th>2023-01-30 00:00:00-05:00</th>\n",
       "      <td>NaN</td>\n",
       "      <td>202.454120</td>\n",
       "    </tr>\n",
       "    <tr>\n",
       "      <th>2023-02-06 00:00:00-05:00</th>\n",
       "      <td>NaN</td>\n",
       "      <td>201.789611</td>\n",
       "    </tr>\n",
       "    <tr>\n",
       "      <th>2023-02-13 00:00:00-05:00</th>\n",
       "      <td>NaN</td>\n",
       "      <td>221.431677</td>\n",
       "    </tr>\n",
       "    <tr>\n",
       "      <th>2023-02-20 00:00:00-05:00</th>\n",
       "      <td>NaN</td>\n",
       "      <td>205.988674</td>\n",
       "    </tr>\n",
       "    <tr>\n",
       "      <th>2023-02-27 00:00:00-05:00</th>\n",
       "      <td>NaN</td>\n",
       "      <td>288.350555</td>\n",
       "    </tr>\n",
       "    <tr>\n",
       "      <th>2023-03-06 00:00:00-05:00</th>\n",
       "      <td>NaN</td>\n",
       "      <td>265.443366</td>\n",
       "    </tr>\n",
       "    <tr>\n",
       "      <th>2023-03-13 00:00:00-04:00</th>\n",
       "      <td>NaN</td>\n",
       "      <td>214.171677</td>\n",
       "    </tr>\n",
       "    <tr>\n",
       "      <th>2023-03-20 00:00:00-04:00</th>\n",
       "      <td>NaN</td>\n",
       "      <td>275.169768</td>\n",
       "    </tr>\n",
       "    <tr>\n",
       "      <th>2023-03-27 00:00:00-04:00</th>\n",
       "      <td>NaN</td>\n",
       "      <td>315.476238</td>\n",
       "    </tr>\n",
       "    <tr>\n",
       "      <th>2023-04-03 00:00:00-04:00</th>\n",
       "      <td>NaN</td>\n",
       "      <td>319.585422</td>\n",
       "    </tr>\n",
       "    <tr>\n",
       "      <th>2023-04-10 00:00:00-04:00</th>\n",
       "      <td>NaN</td>\n",
       "      <td>304.512076</td>\n",
       "    </tr>\n",
       "    <tr>\n",
       "      <th>2023-04-17 00:00:00-04:00</th>\n",
       "      <td>NaN</td>\n",
       "      <td>294.392533</td>\n",
       "    </tr>\n",
       "    <tr>\n",
       "      <th>2023-04-24 00:00:00-04:00</th>\n",
       "      <td>NaN</td>\n",
       "      <td>323.639081</td>\n",
       "    </tr>\n",
       "    <tr>\n",
       "      <th>2023-05-01 00:00:00-04:00</th>\n",
       "      <td>NaN</td>\n",
       "      <td>321.464497</td>\n",
       "    </tr>\n",
       "    <tr>\n",
       "      <th>2023-05-08 00:00:00-04:00</th>\n",
       "      <td>NaN</td>\n",
       "      <td>332.928949</td>\n",
       "    </tr>\n",
       "    <tr>\n",
       "      <th>2023-05-15 00:00:00-04:00</th>\n",
       "      <td>NaN</td>\n",
       "      <td>292.841372</td>\n",
       "    </tr>\n",
       "    <tr>\n",
       "      <th>2023-05-22 00:00:00-04:00</th>\n",
       "      <td>NaN</td>\n",
       "      <td>229.452979</td>\n",
       "    </tr>\n",
       "    <tr>\n",
       "      <th>2023-05-29 00:00:00-04:00</th>\n",
       "      <td>NaN</td>\n",
       "      <td>433.155541</td>\n",
       "    </tr>\n",
       "    <tr>\n",
       "      <th>2023-06-05 00:00:00-04:00</th>\n",
       "      <td>NaN</td>\n",
       "      <td>451.540266</td>\n",
       "    </tr>\n",
       "    <tr>\n",
       "      <th>2023-06-12 00:00:00-04:00</th>\n",
       "      <td>NaN</td>\n",
       "      <td>482.558508</td>\n",
       "    </tr>\n",
       "  </tbody>\n",
       "</table>\n",
       "</div>"
      ],
      "text/plain": [
       "                               actual  predictions\n",
       "Date                                              \n",
       "2022-04-25 00:00:00-04:00  267.552307   201.153394\n",
       "2022-05-02 00:00:00-04:00  271.161926   177.260938\n",
       "2022-05-09 00:00:00-04:00  277.461273   203.905304\n",
       "2022-05-16 00:00:00-04:00  286.770325   175.790200\n",
       "2022-05-23 00:00:00-04:00  283.370667   158.521436\n",
       "2022-05-30 00:00:00-04:00  312.607666   213.329158\n",
       "2022-06-06 00:00:00-04:00  389.419678   196.463696\n",
       "2022-06-13 00:00:00-04:00  393.229309   172.232225\n",
       "2022-06-20 00:00:00-04:00  387.659882   196.335179\n",
       "2022-06-27 00:00:00-04:00  391.359985   166.960972\n",
       "2022-07-04 00:00:00-04:00         NaN   147.820813\n",
       "2022-07-11 00:00:00-04:00         NaN   188.624642\n",
       "2022-07-18 00:00:00-04:00         NaN   163.155160\n",
       "2022-07-25 00:00:00-04:00         NaN   192.408546\n",
       "2022-08-01 00:00:00-04:00         NaN   208.107024\n",
       "2022-08-08 00:00:00-04:00         NaN   196.912003\n",
       "2022-08-15 00:00:00-04:00         NaN   207.268146\n",
       "2022-08-22 00:00:00-04:00         NaN   184.931441\n",
       "2022-08-29 00:00:00-04:00         NaN   147.186303\n",
       "2022-09-05 00:00:00-04:00         NaN   161.146327\n",
       "2022-09-12 00:00:00-04:00         NaN   153.270809\n",
       "2022-09-19 00:00:00-04:00         NaN   124.829585\n",
       "2022-09-26 00:00:00-04:00         NaN   143.054025\n",
       "2022-10-03 00:00:00-04:00         NaN   113.687458\n",
       "2022-10-10 00:00:00-04:00         NaN   134.260967\n",
       "2022-10-17 00:00:00-04:00         NaN   123.272656\n",
       "2022-10-24 00:00:00-04:00         NaN   136.146584\n",
       "2022-10-31 00:00:00-04:00         NaN   163.798758\n",
       "2022-11-07 00:00:00-05:00         NaN   142.620018\n",
       "2022-11-14 00:00:00-05:00         NaN   165.996715\n",
       "2022-11-21 00:00:00-05:00         NaN   168.296162\n",
       "2022-11-28 00:00:00-05:00         NaN   176.612763\n",
       "2022-12-05 00:00:00-05:00         NaN   185.031706\n",
       "2022-12-12 00:00:00-05:00         NaN   154.263609\n",
       "2022-12-19 00:00:00-05:00         NaN   183.212234\n",
       "2022-12-26 00:00:00-05:00         NaN   181.271716\n",
       "2023-01-02 00:00:00-05:00         NaN   182.484554\n",
       "2023-01-09 00:00:00-05:00         NaN   167.325356\n",
       "2023-01-16 00:00:00-05:00         NaN   198.301702\n",
       "2023-01-23 00:00:00-05:00         NaN   181.631730\n",
       "2023-01-30 00:00:00-05:00         NaN   202.454120\n",
       "2023-02-06 00:00:00-05:00         NaN   201.789611\n",
       "2023-02-13 00:00:00-05:00         NaN   221.431677\n",
       "2023-02-20 00:00:00-05:00         NaN   205.988674\n",
       "2023-02-27 00:00:00-05:00         NaN   288.350555\n",
       "2023-03-06 00:00:00-05:00         NaN   265.443366\n",
       "2023-03-13 00:00:00-04:00         NaN   214.171677\n",
       "2023-03-20 00:00:00-04:00         NaN   275.169768\n",
       "2023-03-27 00:00:00-04:00         NaN   315.476238\n",
       "2023-04-03 00:00:00-04:00         NaN   319.585422\n",
       "2023-04-10 00:00:00-04:00         NaN   304.512076\n",
       "2023-04-17 00:00:00-04:00         NaN   294.392533\n",
       "2023-04-24 00:00:00-04:00         NaN   323.639081\n",
       "2023-05-01 00:00:00-04:00         NaN   321.464497\n",
       "2023-05-08 00:00:00-04:00         NaN   332.928949\n",
       "2023-05-15 00:00:00-04:00         NaN   292.841372\n",
       "2023-05-22 00:00:00-04:00         NaN   229.452979\n",
       "2023-05-29 00:00:00-04:00         NaN   433.155541\n",
       "2023-06-05 00:00:00-04:00         NaN   451.540266\n",
       "2023-06-12 00:00:00-04:00         NaN   482.558508"
      ]
     },
     "execution_count": 22,
     "metadata": {},
     "output_type": "execute_result"
    }
   ],
   "source": [
    "myResults"
   ]
  },
  {
   "cell_type": "code",
   "execution_count": 23,
   "id": "87abf58c",
   "metadata": {},
   "outputs": [
    {
     "data": {
      "text/plain": [
       "113.68745823345996"
      ]
     },
     "execution_count": 23,
     "metadata": {},
     "output_type": "execute_result"
    }
   ],
   "source": [
    "ourLow = myResults[\"predictions\"].min()\n",
    "ourLow"
   ]
  },
  {
   "cell_type": "code",
   "execution_count": 24,
   "id": "5f34fa68",
   "metadata": {},
   "outputs": [
    {
     "data": {
      "text/html": [
       "<div>\n",
       "<style scoped>\n",
       "    .dataframe tbody tr th:only-of-type {\n",
       "        vertical-align: middle;\n",
       "    }\n",
       "\n",
       "    .dataframe tbody tr th {\n",
       "        vertical-align: top;\n",
       "    }\n",
       "\n",
       "    .dataframe thead th {\n",
       "        text-align: right;\n",
       "    }\n",
       "</style>\n",
       "<table border=\"1\" class=\"dataframe\">\n",
       "  <thead>\n",
       "    <tr style=\"text-align: right;\">\n",
       "      <th></th>\n",
       "      <th>actual</th>\n",
       "      <th>predictions</th>\n",
       "    </tr>\n",
       "    <tr>\n",
       "      <th>Date</th>\n",
       "      <th></th>\n",
       "      <th></th>\n",
       "    </tr>\n",
       "  </thead>\n",
       "  <tbody>\n",
       "    <tr>\n",
       "      <th>2022-10-03 00:00:00-04:00</th>\n",
       "      <td>NaN</td>\n",
       "      <td>113.687458</td>\n",
       "    </tr>\n",
       "  </tbody>\n",
       "</table>\n",
       "</div>"
      ],
      "text/plain": [
       "                           actual  predictions\n",
       "Date                                          \n",
       "2022-10-03 00:00:00-04:00     NaN   113.687458"
      ]
     },
     "execution_count": 24,
     "metadata": {},
     "output_type": "execute_result"
    }
   ],
   "source": [
    "myResults.loc[myResults[\"predictions\"]==ourLow]"
   ]
  },
  {
   "cell_type": "code",
   "execution_count": 25,
   "id": "c3f1ee42",
   "metadata": {},
   "outputs": [
    {
     "data": {
      "text/plain": [
       "482.55850792440015"
      ]
     },
     "execution_count": 25,
     "metadata": {},
     "output_type": "execute_result"
    }
   ],
   "source": [
    "ourHigh = myResults[\"predictions\"].max()\n",
    "ourHigh"
   ]
  },
  {
   "cell_type": "code",
   "execution_count": 26,
   "id": "7da8f084",
   "metadata": {},
   "outputs": [
    {
     "data": {
      "text/html": [
       "<div>\n",
       "<style scoped>\n",
       "    .dataframe tbody tr th:only-of-type {\n",
       "        vertical-align: middle;\n",
       "    }\n",
       "\n",
       "    .dataframe tbody tr th {\n",
       "        vertical-align: top;\n",
       "    }\n",
       "\n",
       "    .dataframe thead th {\n",
       "        text-align: right;\n",
       "    }\n",
       "</style>\n",
       "<table border=\"1\" class=\"dataframe\">\n",
       "  <thead>\n",
       "    <tr style=\"text-align: right;\">\n",
       "      <th></th>\n",
       "      <th>actual</th>\n",
       "      <th>predictions</th>\n",
       "    </tr>\n",
       "    <tr>\n",
       "      <th>Date</th>\n",
       "      <th></th>\n",
       "      <th></th>\n",
       "    </tr>\n",
       "  </thead>\n",
       "  <tbody>\n",
       "    <tr>\n",
       "      <th>2023-06-12 00:00:00-04:00</th>\n",
       "      <td>NaN</td>\n",
       "      <td>482.558508</td>\n",
       "    </tr>\n",
       "  </tbody>\n",
       "</table>\n",
       "</div>"
      ],
      "text/plain": [
       "                           actual  predictions\n",
       "Date                                          \n",
       "2023-06-12 00:00:00-04:00     NaN   482.558508"
      ]
     },
     "execution_count": 26,
     "metadata": {},
     "output_type": "execute_result"
    }
   ],
   "source": [
    "myResults.loc[myResults[\"predictions\"]==ourHigh]"
   ]
  },
  {
   "cell_type": "code",
   "execution_count": 27,
   "id": "eb572b0b",
   "metadata": {},
   "outputs": [],
   "source": [
    "lastMonth = myResults.iloc[-5:]"
   ]
  },
  {
   "cell_type": "code",
   "execution_count": 28,
   "id": "9a2317fc",
   "metadata": {},
   "outputs": [
    {
     "data": {
      "text/html": [
       "<div>\n",
       "<style scoped>\n",
       "    .dataframe tbody tr th:only-of-type {\n",
       "        vertical-align: middle;\n",
       "    }\n",
       "\n",
       "    .dataframe tbody tr th {\n",
       "        vertical-align: top;\n",
       "    }\n",
       "\n",
       "    .dataframe thead th {\n",
       "        text-align: right;\n",
       "    }\n",
       "</style>\n",
       "<table border=\"1\" class=\"dataframe\">\n",
       "  <thead>\n",
       "    <tr style=\"text-align: right;\">\n",
       "      <th></th>\n",
       "      <th>actual</th>\n",
       "      <th>predictions</th>\n",
       "    </tr>\n",
       "    <tr>\n",
       "      <th>Date</th>\n",
       "      <th></th>\n",
       "      <th></th>\n",
       "    </tr>\n",
       "  </thead>\n",
       "  <tbody>\n",
       "    <tr>\n",
       "      <th>2023-05-15 00:00:00-04:00</th>\n",
       "      <td>NaN</td>\n",
       "      <td>292.841372</td>\n",
       "    </tr>\n",
       "    <tr>\n",
       "      <th>2023-05-22 00:00:00-04:00</th>\n",
       "      <td>NaN</td>\n",
       "      <td>229.452979</td>\n",
       "    </tr>\n",
       "    <tr>\n",
       "      <th>2023-05-29 00:00:00-04:00</th>\n",
       "      <td>NaN</td>\n",
       "      <td>433.155541</td>\n",
       "    </tr>\n",
       "    <tr>\n",
       "      <th>2023-06-05 00:00:00-04:00</th>\n",
       "      <td>NaN</td>\n",
       "      <td>451.540266</td>\n",
       "    </tr>\n",
       "    <tr>\n",
       "      <th>2023-06-12 00:00:00-04:00</th>\n",
       "      <td>NaN</td>\n",
       "      <td>482.558508</td>\n",
       "    </tr>\n",
       "  </tbody>\n",
       "</table>\n",
       "</div>"
      ],
      "text/plain": [
       "                           actual  predictions\n",
       "Date                                          \n",
       "2023-05-15 00:00:00-04:00     NaN   292.841372\n",
       "2023-05-22 00:00:00-04:00     NaN   229.452979\n",
       "2023-05-29 00:00:00-04:00     NaN   433.155541\n",
       "2023-06-05 00:00:00-04:00     NaN   451.540266\n",
       "2023-06-12 00:00:00-04:00     NaN   482.558508"
      ]
     },
     "execution_count": 28,
     "metadata": {},
     "output_type": "execute_result"
    }
   ],
   "source": [
    "lastMonth"
   ]
  },
  {
   "cell_type": "code",
   "execution_count": 29,
   "id": "f8672a0c",
   "metadata": {},
   "outputs": [
    {
     "data": {
      "text/plain": [
       "Date\n",
       "2023-05-15 00:00:00-04:00    292.841372\n",
       "2023-05-22 00:00:00-04:00    229.452979\n",
       "2023-05-29 00:00:00-04:00    433.155541\n",
       "2023-06-05 00:00:00-04:00    451.540266\n",
       "2023-06-12 00:00:00-04:00    482.558508\n",
       "Name: predictions, dtype: float64"
      ]
     },
     "execution_count": 29,
     "metadata": {},
     "output_type": "execute_result"
    }
   ],
   "source": [
    "lastMonth[\"predictions\"]"
   ]
  },
  {
   "cell_type": "code",
   "execution_count": 30,
   "id": "9d494ce9",
   "metadata": {},
   "outputs": [
    {
     "data": {
      "text/plain": [
       "377.9097332263129"
      ]
     },
     "execution_count": 30,
     "metadata": {},
     "output_type": "execute_result"
    }
   ],
   "source": [
    "priceTarget = lastMonth[\"predictions\"].mean()\n",
    "priceTarget"
   ]
  },
  {
   "cell_type": "code",
   "execution_count": null,
   "id": "4786ac6f",
   "metadata": {},
   "outputs": [],
   "source": []
  },
  {
   "cell_type": "code",
   "execution_count": null,
   "id": "73832941",
   "metadata": {},
   "outputs": [],
   "source": []
  },
  {
   "cell_type": "code",
   "execution_count": null,
   "id": "1b1914f4",
   "metadata": {},
   "outputs": [],
   "source": []
  },
  {
   "cell_type": "code",
   "execution_count": null,
   "id": "4ff3c196",
   "metadata": {},
   "outputs": [],
   "source": []
  },
  {
   "cell_type": "code",
   "execution_count": null,
   "id": "94efc336",
   "metadata": {},
   "outputs": [],
   "source": []
  },
  {
   "cell_type": "code",
   "execution_count": null,
   "id": "2aaf3413",
   "metadata": {},
   "outputs": [],
   "source": []
  },
  {
   "cell_type": "code",
   "execution_count": null,
   "id": "923f8e53",
   "metadata": {},
   "outputs": [],
   "source": []
  },
  {
   "cell_type": "code",
   "execution_count": null,
   "id": "8b920eee",
   "metadata": {},
   "outputs": [],
   "source": []
  },
  {
   "cell_type": "code",
   "execution_count": null,
   "id": "86f727c3",
   "metadata": {},
   "outputs": [],
   "source": []
  },
  {
   "cell_type": "code",
   "execution_count": null,
   "id": "28d62e54",
   "metadata": {},
   "outputs": [],
   "source": []
  },
  {
   "cell_type": "code",
   "execution_count": null,
   "id": "a797313d",
   "metadata": {},
   "outputs": [],
   "source": []
  }
 ],
 "metadata": {
  "kernelspec": {
   "display_name": "Python 3 (ipykernel)",
   "language": "python",
   "name": "python3"
  },
  "language_info": {
   "codemirror_mode": {
    "name": "ipython",
    "version": 3
   },
   "file_extension": ".py",
   "mimetype": "text/x-python",
   "name": "python",
   "nbconvert_exporter": "python",
   "pygments_lexer": "ipython3",
   "version": "3.11.2"
  }
 },
 "nbformat": 4,
 "nbformat_minor": 5
}
