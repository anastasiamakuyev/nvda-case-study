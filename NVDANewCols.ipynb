{
 "cells": [
  {
   "cell_type": "code",
   "execution_count": 2,
   "id": "5a05b81d",
   "metadata": {},
   "outputs": [],
   "source": [
    "import yfinance as yf\n",
    "import pandas as pd"
   ]
  },
  {
   "cell_type": "code",
   "execution_count": 3,
   "id": "2d05268f",
   "metadata": {},
   "outputs": [],
   "source": [
    "nvda = yf.Ticker(\"NVDA\")"
   ]
  },
  {
   "cell_type": "code",
   "execution_count": 4,
   "id": "958c4683",
   "metadata": {},
   "outputs": [],
   "source": [
    "nvda = nvda.history(period=\"max\")"
   ]
  },
  {
   "cell_type": "code",
   "execution_count": 5,
   "id": "46a620d2",
   "metadata": {},
   "outputs": [
    {
     "data": {
      "text/html": [
       "<div>\n",
       "<style scoped>\n",
       "    .dataframe tbody tr th:only-of-type {\n",
       "        vertical-align: middle;\n",
       "    }\n",
       "\n",
       "    .dataframe tbody tr th {\n",
       "        vertical-align: top;\n",
       "    }\n",
       "\n",
       "    .dataframe thead th {\n",
       "        text-align: right;\n",
       "    }\n",
       "</style>\n",
       "<table border=\"1\" class=\"dataframe\">\n",
       "  <thead>\n",
       "    <tr style=\"text-align: right;\">\n",
       "      <th></th>\n",
       "      <th>Open</th>\n",
       "      <th>High</th>\n",
       "      <th>Low</th>\n",
       "      <th>Close</th>\n",
       "      <th>Volume</th>\n",
       "      <th>Dividends</th>\n",
       "      <th>Stock Splits</th>\n",
       "    </tr>\n",
       "    <tr>\n",
       "      <th>Date</th>\n",
       "      <th></th>\n",
       "      <th></th>\n",
       "      <th></th>\n",
       "      <th></th>\n",
       "      <th></th>\n",
       "      <th></th>\n",
       "      <th></th>\n",
       "    </tr>\n",
       "  </thead>\n",
       "  <tbody>\n",
       "    <tr>\n",
       "      <th>1999-01-22 00:00:00-05:00</th>\n",
       "      <td>0.401407</td>\n",
       "      <td>0.447999</td>\n",
       "      <td>0.356010</td>\n",
       "      <td>0.376319</td>\n",
       "      <td>271468800</td>\n",
       "      <td>0.00</td>\n",
       "      <td>0.0</td>\n",
       "    </tr>\n",
       "    <tr>\n",
       "      <th>1999-01-25 00:00:00-05:00</th>\n",
       "      <td>0.406185</td>\n",
       "      <td>0.420521</td>\n",
       "      <td>0.376319</td>\n",
       "      <td>0.415743</td>\n",
       "      <td>51048000</td>\n",
       "      <td>0.00</td>\n",
       "      <td>0.0</td>\n",
       "    </tr>\n",
       "    <tr>\n",
       "      <th>1999-01-26 00:00:00-05:00</th>\n",
       "      <td>0.420521</td>\n",
       "      <td>0.428884</td>\n",
       "      <td>0.377513</td>\n",
       "      <td>0.383487</td>\n",
       "      <td>34320000</td>\n",
       "      <td>0.00</td>\n",
       "      <td>0.0</td>\n",
       "    </tr>\n",
       "    <tr>\n",
       "      <th>1999-01-27 00:00:00-05:00</th>\n",
       "      <td>0.384682</td>\n",
       "      <td>0.394239</td>\n",
       "      <td>0.363177</td>\n",
       "      <td>0.382293</td>\n",
       "      <td>24436800</td>\n",
       "      <td>0.00</td>\n",
       "      <td>0.0</td>\n",
       "    </tr>\n",
       "    <tr>\n",
       "      <th>1999-01-28 00:00:00-05:00</th>\n",
       "      <td>0.382293</td>\n",
       "      <td>0.384682</td>\n",
       "      <td>0.378708</td>\n",
       "      <td>0.381098</td>\n",
       "      <td>22752000</td>\n",
       "      <td>0.00</td>\n",
       "      <td>0.0</td>\n",
       "    </tr>\n",
       "    <tr>\n",
       "      <th>...</th>\n",
       "      <td>...</td>\n",
       "      <td>...</td>\n",
       "      <td>...</td>\n",
       "      <td>...</td>\n",
       "      <td>...</td>\n",
       "      <td>...</td>\n",
       "      <td>...</td>\n",
       "    </tr>\n",
       "    <tr>\n",
       "      <th>2023-06-06 00:00:00-04:00</th>\n",
       "      <td>388.259797</td>\n",
       "      <td>391.559474</td>\n",
       "      <td>381.440526</td>\n",
       "      <td>386.500000</td>\n",
       "      <td>38872900</td>\n",
       "      <td>0.00</td>\n",
       "      <td>0.0</td>\n",
       "    </tr>\n",
       "    <tr>\n",
       "      <th>2023-06-07 00:00:00-04:00</th>\n",
       "      <td>389.149994</td>\n",
       "      <td>394.989990</td>\n",
       "      <td>373.559998</td>\n",
       "      <td>374.750000</td>\n",
       "      <td>51199800</td>\n",
       "      <td>0.04</td>\n",
       "      <td>0.0</td>\n",
       "    </tr>\n",
       "    <tr>\n",
       "      <th>2023-06-08 00:00:00-04:00</th>\n",
       "      <td>377.239990</td>\n",
       "      <td>388.640015</td>\n",
       "      <td>375.049988</td>\n",
       "      <td>385.100006</td>\n",
       "      <td>41777200</td>\n",
       "      <td>0.00</td>\n",
       "      <td>0.0</td>\n",
       "    </tr>\n",
       "    <tr>\n",
       "      <th>2023-06-09 00:00:00-04:00</th>\n",
       "      <td>390.369995</td>\n",
       "      <td>397.109985</td>\n",
       "      <td>385.670013</td>\n",
       "      <td>387.700012</td>\n",
       "      <td>42722000</td>\n",
       "      <td>0.00</td>\n",
       "      <td>0.0</td>\n",
       "    </tr>\n",
       "    <tr>\n",
       "      <th>2023-06-12 00:00:00-04:00</th>\n",
       "      <td>390.369995</td>\n",
       "      <td>393.250000</td>\n",
       "      <td>389.750000</td>\n",
       "      <td>391.450012</td>\n",
       "      <td>2074273</td>\n",
       "      <td>0.00</td>\n",
       "      <td>0.0</td>\n",
       "    </tr>\n",
       "  </tbody>\n",
       "</table>\n",
       "<p>6137 rows × 7 columns</p>\n",
       "</div>"
      ],
      "text/plain": [
       "                                 Open        High         Low       Close  \\\n",
       "Date                                                                        \n",
       "1999-01-22 00:00:00-05:00    0.401407    0.447999    0.356010    0.376319   \n",
       "1999-01-25 00:00:00-05:00    0.406185    0.420521    0.376319    0.415743   \n",
       "1999-01-26 00:00:00-05:00    0.420521    0.428884    0.377513    0.383487   \n",
       "1999-01-27 00:00:00-05:00    0.384682    0.394239    0.363177    0.382293   \n",
       "1999-01-28 00:00:00-05:00    0.382293    0.384682    0.378708    0.381098   \n",
       "...                               ...         ...         ...         ...   \n",
       "2023-06-06 00:00:00-04:00  388.259797  391.559474  381.440526  386.500000   \n",
       "2023-06-07 00:00:00-04:00  389.149994  394.989990  373.559998  374.750000   \n",
       "2023-06-08 00:00:00-04:00  377.239990  388.640015  375.049988  385.100006   \n",
       "2023-06-09 00:00:00-04:00  390.369995  397.109985  385.670013  387.700012   \n",
       "2023-06-12 00:00:00-04:00  390.369995  393.250000  389.750000  391.450012   \n",
       "\n",
       "                              Volume  Dividends  Stock Splits  \n",
       "Date                                                           \n",
       "1999-01-22 00:00:00-05:00  271468800       0.00           0.0  \n",
       "1999-01-25 00:00:00-05:00   51048000       0.00           0.0  \n",
       "1999-01-26 00:00:00-05:00   34320000       0.00           0.0  \n",
       "1999-01-27 00:00:00-05:00   24436800       0.00           0.0  \n",
       "1999-01-28 00:00:00-05:00   22752000       0.00           0.0  \n",
       "...                              ...        ...           ...  \n",
       "2023-06-06 00:00:00-04:00   38872900       0.00           0.0  \n",
       "2023-06-07 00:00:00-04:00   51199800       0.04           0.0  \n",
       "2023-06-08 00:00:00-04:00   41777200       0.00           0.0  \n",
       "2023-06-09 00:00:00-04:00   42722000       0.00           0.0  \n",
       "2023-06-12 00:00:00-04:00    2074273       0.00           0.0  \n",
       "\n",
       "[6137 rows x 7 columns]"
      ]
     },
     "execution_count": 5,
     "metadata": {},
     "output_type": "execute_result"
    }
   ],
   "source": [
    "nvda"
   ]
  },
  {
   "cell_type": "code",
   "execution_count": 6,
   "id": "07929bd6",
   "metadata": {},
   "outputs": [
    {
     "data": {
      "text/html": [
       "<div>\n",
       "<style scoped>\n",
       "    .dataframe tbody tr th:only-of-type {\n",
       "        vertical-align: middle;\n",
       "    }\n",
       "\n",
       "    .dataframe tbody tr th {\n",
       "        vertical-align: top;\n",
       "    }\n",
       "\n",
       "    .dataframe thead th {\n",
       "        text-align: right;\n",
       "    }\n",
       "</style>\n",
       "<table border=\"1\" class=\"dataframe\">\n",
       "  <thead>\n",
       "    <tr style=\"text-align: right;\">\n",
       "      <th></th>\n",
       "      <th>Open</th>\n",
       "      <th>High</th>\n",
       "      <th>Low</th>\n",
       "      <th>Close</th>\n",
       "      <th>Volume</th>\n",
       "      <th>Dividends</th>\n",
       "      <th>Stock Splits</th>\n",
       "      <th>Open %change</th>\n",
       "      <th>Close %change</th>\n",
       "      <th>Low %change</th>\n",
       "      <th>High %change</th>\n",
       "      <th>Volume %change</th>\n",
       "    </tr>\n",
       "    <tr>\n",
       "      <th>Date</th>\n",
       "      <th></th>\n",
       "      <th></th>\n",
       "      <th></th>\n",
       "      <th></th>\n",
       "      <th></th>\n",
       "      <th></th>\n",
       "      <th></th>\n",
       "      <th></th>\n",
       "      <th></th>\n",
       "      <th></th>\n",
       "      <th></th>\n",
       "      <th></th>\n",
       "    </tr>\n",
       "  </thead>\n",
       "  <tbody>\n",
       "    <tr>\n",
       "      <th>1999-01-25 00:00:00-05:00</th>\n",
       "      <td>0.406185</td>\n",
       "      <td>0.420521</td>\n",
       "      <td>0.376319</td>\n",
       "      <td>0.415743</td>\n",
       "      <td>51048000</td>\n",
       "      <td>0.00</td>\n",
       "      <td>0.0</td>\n",
       "      <td>0.011904</td>\n",
       "      <td>0.104763</td>\n",
       "      <td>0.057046</td>\n",
       "      <td>-0.061333</td>\n",
       "      <td>-0.811956</td>\n",
       "    </tr>\n",
       "    <tr>\n",
       "      <th>1999-01-26 00:00:00-05:00</th>\n",
       "      <td>0.420521</td>\n",
       "      <td>0.428884</td>\n",
       "      <td>0.377513</td>\n",
       "      <td>0.383487</td>\n",
       "      <td>34320000</td>\n",
       "      <td>0.00</td>\n",
       "      <td>0.0</td>\n",
       "      <td>0.035294</td>\n",
       "      <td>-0.077586</td>\n",
       "      <td>0.003174</td>\n",
       "      <td>0.019887</td>\n",
       "      <td>-0.327692</td>\n",
       "    </tr>\n",
       "    <tr>\n",
       "      <th>1999-01-27 00:00:00-05:00</th>\n",
       "      <td>0.384682</td>\n",
       "      <td>0.394239</td>\n",
       "      <td>0.363177</td>\n",
       "      <td>0.382293</td>\n",
       "      <td>24436800</td>\n",
       "      <td>0.00</td>\n",
       "      <td>0.0</td>\n",
       "      <td>-0.085226</td>\n",
       "      <td>-0.003115</td>\n",
       "      <td>-0.037975</td>\n",
       "      <td>-0.080779</td>\n",
       "      <td>-0.287972</td>\n",
       "    </tr>\n",
       "    <tr>\n",
       "      <th>1999-01-28 00:00:00-05:00</th>\n",
       "      <td>0.382293</td>\n",
       "      <td>0.384682</td>\n",
       "      <td>0.378708</td>\n",
       "      <td>0.381098</td>\n",
       "      <td>22752000</td>\n",
       "      <td>0.00</td>\n",
       "      <td>0.0</td>\n",
       "      <td>-0.006211</td>\n",
       "      <td>-0.003125</td>\n",
       "      <td>0.042763</td>\n",
       "      <td>-0.024243</td>\n",
       "      <td>-0.068945</td>\n",
       "    </tr>\n",
       "    <tr>\n",
       "      <th>1999-01-29 00:00:00-05:00</th>\n",
       "      <td>0.381098</td>\n",
       "      <td>0.382293</td>\n",
       "      <td>0.363177</td>\n",
       "      <td>0.363177</td>\n",
       "      <td>24403200</td>\n",
       "      <td>0.00</td>\n",
       "      <td>0.0</td>\n",
       "      <td>-0.003125</td>\n",
       "      <td>-0.047024</td>\n",
       "      <td>-0.041009</td>\n",
       "      <td>-0.006211</td>\n",
       "      <td>0.072574</td>\n",
       "    </tr>\n",
       "    <tr>\n",
       "      <th>...</th>\n",
       "      <td>...</td>\n",
       "      <td>...</td>\n",
       "      <td>...</td>\n",
       "      <td>...</td>\n",
       "      <td>...</td>\n",
       "      <td>...</td>\n",
       "      <td>...</td>\n",
       "      <td>...</td>\n",
       "      <td>...</td>\n",
       "      <td>...</td>\n",
       "      <td>...</td>\n",
       "      <td>...</td>\n",
       "    </tr>\n",
       "    <tr>\n",
       "      <th>2023-06-06 00:00:00-04:00</th>\n",
       "      <td>388.259797</td>\n",
       "      <td>391.559474</td>\n",
       "      <td>381.440526</td>\n",
       "      <td>386.500000</td>\n",
       "      <td>38872900</td>\n",
       "      <td>0.00</td>\n",
       "      <td>0.0</td>\n",
       "      <td>-0.002030</td>\n",
       "      <td>-0.013199</td>\n",
       "      <td>-0.014442</td>\n",
       "      <td>-0.010236</td>\n",
       "      <td>-0.018594</td>\n",
       "    </tr>\n",
       "    <tr>\n",
       "      <th>2023-06-07 00:00:00-04:00</th>\n",
       "      <td>389.149994</td>\n",
       "      <td>394.989990</td>\n",
       "      <td>373.559998</td>\n",
       "      <td>374.750000</td>\n",
       "      <td>51199800</td>\n",
       "      <td>0.04</td>\n",
       "      <td>0.0</td>\n",
       "      <td>0.002293</td>\n",
       "      <td>-0.030401</td>\n",
       "      <td>-0.020660</td>\n",
       "      <td>0.008761</td>\n",
       "      <td>0.317108</td>\n",
       "    </tr>\n",
       "    <tr>\n",
       "      <th>2023-06-08 00:00:00-04:00</th>\n",
       "      <td>377.239990</td>\n",
       "      <td>388.640015</td>\n",
       "      <td>375.049988</td>\n",
       "      <td>385.100006</td>\n",
       "      <td>41777200</td>\n",
       "      <td>0.00</td>\n",
       "      <td>0.0</td>\n",
       "      <td>-0.030605</td>\n",
       "      <td>0.027618</td>\n",
       "      <td>0.003989</td>\n",
       "      <td>-0.016076</td>\n",
       "      <td>-0.184036</td>\n",
       "    </tr>\n",
       "    <tr>\n",
       "      <th>2023-06-09 00:00:00-04:00</th>\n",
       "      <td>390.369995</td>\n",
       "      <td>397.109985</td>\n",
       "      <td>385.670013</td>\n",
       "      <td>387.700012</td>\n",
       "      <td>42722000</td>\n",
       "      <td>0.00</td>\n",
       "      <td>0.0</td>\n",
       "      <td>0.034805</td>\n",
       "      <td>0.006752</td>\n",
       "      <td>0.028316</td>\n",
       "      <td>0.021794</td>\n",
       "      <td>0.022615</td>\n",
       "    </tr>\n",
       "    <tr>\n",
       "      <th>2023-06-12 00:00:00-04:00</th>\n",
       "      <td>390.369995</td>\n",
       "      <td>393.250000</td>\n",
       "      <td>389.750000</td>\n",
       "      <td>391.450012</td>\n",
       "      <td>2074273</td>\n",
       "      <td>0.00</td>\n",
       "      <td>0.0</td>\n",
       "      <td>0.000000</td>\n",
       "      <td>0.009672</td>\n",
       "      <td>0.010579</td>\n",
       "      <td>-0.009720</td>\n",
       "      <td>-0.951447</td>\n",
       "    </tr>\n",
       "  </tbody>\n",
       "</table>\n",
       "<p>6136 rows × 12 columns</p>\n",
       "</div>"
      ],
      "text/plain": [
       "                                 Open        High         Low       Close  \\\n",
       "Date                                                                        \n",
       "1999-01-25 00:00:00-05:00    0.406185    0.420521    0.376319    0.415743   \n",
       "1999-01-26 00:00:00-05:00    0.420521    0.428884    0.377513    0.383487   \n",
       "1999-01-27 00:00:00-05:00    0.384682    0.394239    0.363177    0.382293   \n",
       "1999-01-28 00:00:00-05:00    0.382293    0.384682    0.378708    0.381098   \n",
       "1999-01-29 00:00:00-05:00    0.381098    0.382293    0.363177    0.363177   \n",
       "...                               ...         ...         ...         ...   \n",
       "2023-06-06 00:00:00-04:00  388.259797  391.559474  381.440526  386.500000   \n",
       "2023-06-07 00:00:00-04:00  389.149994  394.989990  373.559998  374.750000   \n",
       "2023-06-08 00:00:00-04:00  377.239990  388.640015  375.049988  385.100006   \n",
       "2023-06-09 00:00:00-04:00  390.369995  397.109985  385.670013  387.700012   \n",
       "2023-06-12 00:00:00-04:00  390.369995  393.250000  389.750000  391.450012   \n",
       "\n",
       "                             Volume  Dividends  Stock Splits  Open %change  \\\n",
       "Date                                                                         \n",
       "1999-01-25 00:00:00-05:00  51048000       0.00           0.0      0.011904   \n",
       "1999-01-26 00:00:00-05:00  34320000       0.00           0.0      0.035294   \n",
       "1999-01-27 00:00:00-05:00  24436800       0.00           0.0     -0.085226   \n",
       "1999-01-28 00:00:00-05:00  22752000       0.00           0.0     -0.006211   \n",
       "1999-01-29 00:00:00-05:00  24403200       0.00           0.0     -0.003125   \n",
       "...                             ...        ...           ...           ...   \n",
       "2023-06-06 00:00:00-04:00  38872900       0.00           0.0     -0.002030   \n",
       "2023-06-07 00:00:00-04:00  51199800       0.04           0.0      0.002293   \n",
       "2023-06-08 00:00:00-04:00  41777200       0.00           0.0     -0.030605   \n",
       "2023-06-09 00:00:00-04:00  42722000       0.00           0.0      0.034805   \n",
       "2023-06-12 00:00:00-04:00   2074273       0.00           0.0      0.000000   \n",
       "\n",
       "                           Close %change  Low %change  High %change  \\\n",
       "Date                                                                  \n",
       "1999-01-25 00:00:00-05:00       0.104763     0.057046     -0.061333   \n",
       "1999-01-26 00:00:00-05:00      -0.077586     0.003174      0.019887   \n",
       "1999-01-27 00:00:00-05:00      -0.003115    -0.037975     -0.080779   \n",
       "1999-01-28 00:00:00-05:00      -0.003125     0.042763     -0.024243   \n",
       "1999-01-29 00:00:00-05:00      -0.047024    -0.041009     -0.006211   \n",
       "...                                  ...          ...           ...   \n",
       "2023-06-06 00:00:00-04:00      -0.013199    -0.014442     -0.010236   \n",
       "2023-06-07 00:00:00-04:00      -0.030401    -0.020660      0.008761   \n",
       "2023-06-08 00:00:00-04:00       0.027618     0.003989     -0.016076   \n",
       "2023-06-09 00:00:00-04:00       0.006752     0.028316      0.021794   \n",
       "2023-06-12 00:00:00-04:00       0.009672     0.010579     -0.009720   \n",
       "\n",
       "                           Volume %change  \n",
       "Date                                       \n",
       "1999-01-25 00:00:00-05:00       -0.811956  \n",
       "1999-01-26 00:00:00-05:00       -0.327692  \n",
       "1999-01-27 00:00:00-05:00       -0.287972  \n",
       "1999-01-28 00:00:00-05:00       -0.068945  \n",
       "1999-01-29 00:00:00-05:00        0.072574  \n",
       "...                                   ...  \n",
       "2023-06-06 00:00:00-04:00       -0.018594  \n",
       "2023-06-07 00:00:00-04:00        0.317108  \n",
       "2023-06-08 00:00:00-04:00       -0.184036  \n",
       "2023-06-09 00:00:00-04:00        0.022615  \n",
       "2023-06-12 00:00:00-04:00       -0.951447  \n",
       "\n",
       "[6136 rows x 12 columns]"
      ]
     },
     "execution_count": 6,
     "metadata": {},
     "output_type": "execute_result"
    }
   ],
   "source": [
    "nvda['Open %change'] = nvda['Open'].pct_change() \n",
    "nvda['Close %change'] = nvda['Close'].pct_change() \n",
    "nvda['Low %change'] = nvda['Low'].pct_change() \n",
    "nvda['High %change'] = nvda['High'].pct_change() \n",
    "nvda['Volume %change'] = nvda['Volume'].pct_change() \n",
    "nvda = nvda.drop(nvda.index[0])\n",
    "nvda"
   ]
  },
  {
   "cell_type": "code",
   "execution_count": 7,
   "id": "e9e02908",
   "metadata": {},
   "outputs": [
    {
     "data": {
      "text/plain": [
       "DatetimeIndex(['1999-01-25 00:00:00-05:00', '1999-01-26 00:00:00-05:00',\n",
       "               '1999-01-27 00:00:00-05:00', '1999-01-28 00:00:00-05:00',\n",
       "               '1999-01-29 00:00:00-05:00', '1999-02-01 00:00:00-05:00',\n",
       "               '1999-02-02 00:00:00-05:00', '1999-02-03 00:00:00-05:00',\n",
       "               '1999-02-04 00:00:00-05:00', '1999-02-05 00:00:00-05:00',\n",
       "               ...\n",
       "               '2023-05-30 00:00:00-04:00', '2023-05-31 00:00:00-04:00',\n",
       "               '2023-06-01 00:00:00-04:00', '2023-06-02 00:00:00-04:00',\n",
       "               '2023-06-05 00:00:00-04:00', '2023-06-06 00:00:00-04:00',\n",
       "               '2023-06-07 00:00:00-04:00', '2023-06-08 00:00:00-04:00',\n",
       "               '2023-06-09 00:00:00-04:00', '2023-06-12 00:00:00-04:00'],\n",
       "              dtype='datetime64[ns, America/New_York]', name='Date', length=6136, freq=None)"
      ]
     },
     "execution_count": 7,
     "metadata": {},
     "output_type": "execute_result"
    }
   ],
   "source": [
    "nvda.index"
   ]
  },
  {
   "cell_type": "code",
   "execution_count": 8,
   "id": "2b046bf1",
   "metadata": {},
   "outputs": [
    {
     "data": {
      "text/plain": [
       "<Axes: xlabel='Date'>"
      ]
     },
     "execution_count": 8,
     "metadata": {},
     "output_type": "execute_result"
    },
    {
     "data": {
      "image/png": "[encoded data removed]",
      "text/plain": [
       "<Figure size 640x480 with 1 Axes>"
      ]
     },
     "metadata": {},
     "output_type": "display_data"
    }
   ],
   "source": [
    "nvda.plot.line(y=\"Close\", use_index=True)"
   ]
  },
  {
   "cell_type": "code",
   "execution_count": 9,
   "id": "8dd67ef4",
   "metadata": {},
   "outputs": [],
   "source": [
    "del nvda[\"Dividends\"]\n",
    "del nvda[\"Stock Splits\"]"
   ]
  },
  {
   "cell_type": "code",
   "execution_count": 10,
   "id": "7d3c02b6",
   "metadata": {},
   "outputs": [],
   "source": [
    "from sklearn.linear_model import Ridge\n",
    "\n",
    "reg = Ridge(alpha=.1)"
   ]
  },
  {
   "cell_type": "code",
   "execution_count": 11,
   "id": "3d38d035",
   "metadata": {},
   "outputs": [],
   "source": [
    "nvda[\"NextYear\"] = nvda[\"Close %change\"].shift(-250)"
   ]
  },
  {
   "cell_type": "code",
   "execution_count": 12,
   "id": "36e95891",
   "metadata": {},
   "outputs": [],
   "source": [
    "nvda[\"Target\"] = nvda[\"NextYear\"]"
   ]
  },
  {
   "cell_type": "code",
   "execution_count": 13,
   "id": "d64e4681",
   "metadata": {},
   "outputs": [],
   "source": [
    "from sklearn.linear_model import Ridge\n",
    "\n",
    "reg = Ridge(alpha=.1)"
   ]
  },
  {
   "cell_type": "code",
   "execution_count": null,
   "id": "db6c6168",
   "metadata": {},
   "outputs": [],
   "source": []
  },
  {
   "cell_type": "code",
   "execution_count": 14,
   "id": "5fe8c2c0",
   "metadata": {},
   "outputs": [],
   "source": [
    "predictors = [\"Open %change\", \"Close %change\", \"Low %change\", \"High %change\", \"Volume %change\"]"
   ]
  },
  {
   "cell_type": "code",
   "execution_count": 15,
   "id": "9755ecaf",
   "metadata": {},
   "outputs": [],
   "source": [
    "train = nvda.iloc[:-250]\n",
    "test = nvda"
   ]
  },
  {
   "cell_type": "code",
   "execution_count": 16,
   "id": "17eb8113",
   "metadata": {},
   "outputs": [
    {
     "data": {
      "text/html": [
       "<style>#sk-container-id-1 {color: black;background-color: white;}#sk-container-id-1 pre{padding: 0;}#sk-container-id-1 div.sk-toggleable {background-color: white;}#sk-container-id-1 label.sk-toggleable__label {cursor: pointer;display: block;width: 100%;margin-bottom: 0;padding: 0.3em;box-sizing: border-box;text-align: center;}#sk-container-id-1 label.sk-toggleable__label-arrow:before {content: \"▸\";float: left;margin-right: 0.25em;color: #696969;}#sk-container-id-1 label.sk-toggleable__label-arrow:hover:before {color: black;}#sk-container-id-1 div.sk-estimator:hover label.sk-toggleable__label-arrow:before {color: black;}#sk-container-id-1 div.sk-toggleable__content {max-height: 0;max-width: 0;overflow: hidden;text-align: left;background-color: #f0f8ff;}#sk-container-id-1 div.sk-toggleable__content pre {margin: 0.2em;color: black;border-radius: 0.25em;background-color: #f0f8ff;}#sk-container-id-1 input.sk-toggleable__control:checked~div.sk-toggleable__content {max-height: 200px;max-width: 100%;overflow: auto;}#sk-container-id-1 input.sk-toggleable__control:checked~label.sk-toggleable__label-arrow:before {content: \"▾\";}#sk-container-id-1 div.sk-estimator input.sk-toggleable__control:checked~label.sk-toggleable__label {background-color: #d4ebff;}#sk-container-id-1 div.sk-label input.sk-toggleable__control:checked~label.sk-toggleable__label {background-color: #d4ebff;}#sk-container-id-1 input.sk-hidden--visually {border: 0;clip: rect(1px 1px 1px 1px);clip: rect(1px, 1px, 1px, 1px);height: 1px;margin: -1px;overflow: hidden;padding: 0;position: absolute;width: 1px;}#sk-container-id-1 div.sk-estimator {font-family: monospace;background-color: #f0f8ff;border: 1px dotted black;border-radius: 0.25em;box-sizing: border-box;margin-bottom: 0.5em;}#sk-container-id-1 div.sk-estimator:hover {background-color: #d4ebff;}#sk-container-id-1 div.sk-parallel-item::after {content: \"\";width: 100%;border-bottom: 1px solid gray;flex-grow: 1;}#sk-container-id-1 div.sk-label:hover label.sk-toggleable__label {background-color: #d4ebff;}#sk-container-id-1 div.sk-serial::before {content: \"\";position: absolute;border-left: 1px solid gray;box-sizing: border-box;top: 0;bottom: 0;left: 50%;z-index: 0;}#sk-container-id-1 div.sk-serial {display: flex;flex-direction: column;align-items: center;background-color: white;padding-right: 0.2em;padding-left: 0.2em;position: relative;}#sk-container-id-1 div.sk-item {position: relative;z-index: 1;}#sk-container-id-1 div.sk-parallel {display: flex;align-items: stretch;justify-content: center;background-color: white;position: relative;}#sk-container-id-1 div.sk-item::before, #sk-container-id-1 div.sk-parallel-item::before {content: \"\";position: absolute;border-left: 1px solid gray;box-sizing: border-box;top: 0;bottom: 0;left: 50%;z-index: -1;}#sk-container-id-1 div.sk-parallel-item {display: flex;flex-direction: column;z-index: 1;position: relative;background-color: white;}#sk-container-id-1 div.sk-parallel-item:first-child::after {align-self: flex-end;width: 50%;}#sk-container-id-1 div.sk-parallel-item:last-child::after {align-self: flex-start;width: 50%;}#sk-container-id-1 div.sk-parallel-item:only-child::after {width: 0;}#sk-container-id-1 div.sk-dashed-wrapped {border: 1px dashed gray;margin: 0 0.4em 0.5em 0.4em;box-sizing: border-box;padding-bottom: 0.4em;background-color: white;}#sk-container-id-1 div.sk-label label {font-family: monospace;font-weight: bold;display: inline-block;line-height: 1.2em;}#sk-container-id-1 div.sk-label-container {text-align: center;}#sk-container-id-1 div.sk-container {/* jupyter's `normalize.less` sets `[hidden] { display: none; }` but bootstrap.min.css set `[hidden] { display: none !important; }` so we also need the `!important` here to be able to override the default hidden behavior on the sphinx rendered scikit-learn.org. See: https://github.com/scikit-learn/scikit-learn/issues/21755 */display: inline-block !important;position: relative;}#sk-container-id-1 div.sk-text-repr-fallback {display: none;}</style><div id=\"sk-container-id-1\" class=\"sk-top-container\"><div class=\"sk-text-repr-fallback\"><pre>Ridge(alpha=0.1)</pre><b>In a Jupyter environment, please rerun this cell to show the HTML representation or trust the notebook. <br />On GitHub, the HTML representation is unable to render, please try loading this page with nbviewer.org.</b></div><div class=\"sk-container\" hidden><div class=\"sk-item\"><div class=\"sk-estimator sk-toggleable\"><input class=\"sk-toggleable__control sk-hidden--visually\" id=\"sk-estimator-id-1\" type=\"checkbox\" checked><label for=\"sk-estimator-id-1\" class=\"sk-toggleable__label sk-toggleable__label-arrow\">Ridge</label><div class=\"sk-toggleable__content\"><pre>Ridge(alpha=0.1)</pre></div></div></div></div></div>"
      ],
      "text/plain": [
       "Ridge(alpha=0.1)"
      ]
     },
     "execution_count": 16,
     "metadata": {},
     "output_type": "execute_result"
    }
   ],
   "source": [
    "reg.fit(train[predictors],train[\"Target\"])"
   ]
  },
  {
   "cell_type": "code",
   "execution_count": 17,
   "id": "06effea8",
   "metadata": {},
   "outputs": [],
   "source": [
    "predictions = reg.predict(test[predictors])"
   ]
  },
  {
   "cell_type": "code",
   "execution_count": null,
   "id": "ad9bc8c4",
   "metadata": {},
   "outputs": [],
   "source": []
  },
  {
   "cell_type": "code",
   "execution_count": null,
   "id": "bac930c6",
   "metadata": {},
   "outputs": [],
   "source": []
  },
  {
   "cell_type": "code",
   "execution_count": 18,
   "id": "9435a772",
   "metadata": {},
   "outputs": [],
   "source": [
    "combined = pd.concat([test[\"Target\"], pd.Series(predictions, index=test.index)], axis=1)"
   ]
  },
  {
   "cell_type": "code",
   "execution_count": 19,
   "id": "266b3c9e",
   "metadata": {},
   "outputs": [],
   "source": [
    "combined.columns = [\"actual\", \"predictions\"]"
   ]
  },
  {
   "cell_type": "code",
   "execution_count": 20,
   "id": "5ff4e85c",
   "metadata": {},
   "outputs": [
    {
     "data": {
      "text/html": [
       "<div>\n",
       "<style scoped>\n",
       "    .dataframe tbody tr th:only-of-type {\n",
       "        vertical-align: middle;\n",
       "    }\n",
       "\n",
       "    .dataframe tbody tr th {\n",
       "        vertical-align: top;\n",
       "    }\n",
       "\n",
       "    .dataframe thead th {\n",
       "        text-align: right;\n",
       "    }\n",
       "</style>\n",
       "<table border=\"1\" class=\"dataframe\">\n",
       "  <thead>\n",
       "    <tr style=\"text-align: right;\">\n",
       "      <th></th>\n",
       "      <th>actual</th>\n",
       "      <th>predictions</th>\n",
       "    </tr>\n",
       "    <tr>\n",
       "      <th>Date</th>\n",
       "      <th></th>\n",
       "      <th></th>\n",
       "    </tr>\n",
       "  </thead>\n",
       "  <tbody>\n",
       "    <tr>\n",
       "      <th>1999-01-25 00:00:00-05:00</th>\n",
       "      <td>-0.002756</td>\n",
       "      <td>0.003993</td>\n",
       "    </tr>\n",
       "    <tr>\n",
       "      <th>1999-01-26 00:00:00-05:00</th>\n",
       "      <td>-0.011049</td>\n",
       "      <td>-0.001157</td>\n",
       "    </tr>\n",
       "    <tr>\n",
       "      <th>1999-01-27 00:00:00-05:00</th>\n",
       "      <td>-0.044693</td>\n",
       "      <td>0.005080</td>\n",
       "    </tr>\n",
       "    <tr>\n",
       "      <th>1999-01-28 00:00:00-05:00</th>\n",
       "      <td>-0.008771</td>\n",
       "      <td>0.000370</td>\n",
       "    </tr>\n",
       "    <tr>\n",
       "      <th>1999-01-29 00:00:00-05:00</th>\n",
       "      <td>-0.041299</td>\n",
       "      <td>0.001441</td>\n",
       "    </tr>\n",
       "    <tr>\n",
       "      <th>...</th>\n",
       "      <td>...</td>\n",
       "      <td>...</td>\n",
       "    </tr>\n",
       "    <tr>\n",
       "      <th>2023-06-06 00:00:00-04:00</th>\n",
       "      <td>NaN</td>\n",
       "      <td>0.001874</td>\n",
       "    </tr>\n",
       "    <tr>\n",
       "      <th>2023-06-07 00:00:00-04:00</th>\n",
       "      <td>NaN</td>\n",
       "      <td>0.000992</td>\n",
       "    </tr>\n",
       "    <tr>\n",
       "      <th>2023-06-08 00:00:00-04:00</th>\n",
       "      <td>NaN</td>\n",
       "      <td>0.003941</td>\n",
       "    </tr>\n",
       "    <tr>\n",
       "      <th>2023-06-09 00:00:00-04:00</th>\n",
       "      <td>NaN</td>\n",
       "      <td>0.000456</td>\n",
       "    </tr>\n",
       "    <tr>\n",
       "      <th>2023-06-12 00:00:00-04:00</th>\n",
       "      <td>NaN</td>\n",
       "      <td>0.003648</td>\n",
       "    </tr>\n",
       "  </tbody>\n",
       "</table>\n",
       "<p>6136 rows × 2 columns</p>\n",
       "</div>"
      ],
      "text/plain": [
       "                             actual  predictions\n",
       "Date                                            \n",
       "1999-01-25 00:00:00-05:00 -0.002756     0.003993\n",
       "1999-01-26 00:00:00-05:00 -0.011049    -0.001157\n",
       "1999-01-27 00:00:00-05:00 -0.044693     0.005080\n",
       "1999-01-28 00:00:00-05:00 -0.008771     0.000370\n",
       "1999-01-29 00:00:00-05:00 -0.041299     0.001441\n",
       "...                             ...          ...\n",
       "2023-06-06 00:00:00-04:00       NaN     0.001874\n",
       "2023-06-07 00:00:00-04:00       NaN     0.000992\n",
       "2023-06-08 00:00:00-04:00       NaN     0.003941\n",
       "2023-06-09 00:00:00-04:00       NaN     0.000456\n",
       "2023-06-12 00:00:00-04:00       NaN     0.003648\n",
       "\n",
       "[6136 rows x 2 columns]"
      ]
     },
     "execution_count": 20,
     "metadata": {},
     "output_type": "execute_result"
    }
   ],
   "source": [
    "combined"
   ]
  },
  {
   "cell_type": "code",
   "execution_count": 21,
   "id": "7e498827",
   "metadata": {
    "scrolled": true
   },
   "outputs": [
    {
     "data": {
      "text/plain": [
       "<Axes: xlabel='Date'>"
      ]
     },
     "execution_count": 21,
     "metadata": {},
     "output_type": "execute_result"
    },
    {
     "data": {
      "image/png": "[encoded data removed]",
      "text/plain": [
       "<Figure size 640x480 with 1 Axes>"
      ]
     },
     "metadata": {},
     "output_type": "display_data"
    }
   ],
   "source": [
    "combined.plot()"
   ]
  },
  {
   "cell_type": "code",
   "execution_count": 22,
   "id": "edbac2ff",
   "metadata": {},
   "outputs": [],
   "source": [
    "myResults = combined.iloc[-300:]"
   ]
  },
  {
   "cell_type": "code",
   "execution_count": 23,
   "id": "1b7a1baa",
   "metadata": {},
   "outputs": [
    {
     "data": {
      "text/plain": [
       "<Axes: xlabel='Date'>"
      ]
     },
     "execution_count": 23,
     "metadata": {},
     "output_type": "execute_result"
    },
    {
     "data": {
      "image/png": "[encoded data removed]",
      "text/plain": [
       "<Figure size 640x480 with 1 Axes>"
      ]
     },
     "metadata": {},
     "output_type": "display_data"
    }
   ],
   "source": [
    "myResults.plot()"
   ]
  },
  {
   "cell_type": "code",
   "execution_count": 24,
   "id": "df21a60d",
   "metadata": {},
   "outputs": [
    {
     "data": {
      "text/html": [
       "<div>\n",
       "<style scoped>\n",
       "    .dataframe tbody tr th:only-of-type {\n",
       "        vertical-align: middle;\n",
       "    }\n",
       "\n",
       "    .dataframe tbody tr th {\n",
       "        vertical-align: top;\n",
       "    }\n",
       "\n",
       "    .dataframe thead th {\n",
       "        text-align: right;\n",
       "    }\n",
       "</style>\n",
       "<table border=\"1\" class=\"dataframe\">\n",
       "  <thead>\n",
       "    <tr style=\"text-align: right;\">\n",
       "      <th></th>\n",
       "      <th>actual</th>\n",
       "      <th>predictions</th>\n",
       "    </tr>\n",
       "    <tr>\n",
       "      <th>Date</th>\n",
       "      <th></th>\n",
       "      <th></th>\n",
       "    </tr>\n",
       "  </thead>\n",
       "  <tbody>\n",
       "    <tr>\n",
       "      <th>2022-04-01 00:00:00-04:00</th>\n",
       "      <td>0.014388</td>\n",
       "      <td>0.002436</td>\n",
       "    </tr>\n",
       "    <tr>\n",
       "      <th>2022-04-04 00:00:00-04:00</th>\n",
       "      <td>0.006768</td>\n",
       "      <td>0.003706</td>\n",
       "    </tr>\n",
       "    <tr>\n",
       "      <th>2022-04-05 00:00:00-04:00</th>\n",
       "      <td>-0.018309</td>\n",
       "      <td>0.000021</td>\n",
       "    </tr>\n",
       "    <tr>\n",
       "      <th>2022-04-06 00:00:00-04:00</th>\n",
       "      <td>-0.020836</td>\n",
       "      <td>0.002480</td>\n",
       "    </tr>\n",
       "    <tr>\n",
       "      <th>2022-04-07 00:00:00-04:00</th>\n",
       "      <td>0.005803</td>\n",
       "      <td>0.003040</td>\n",
       "    </tr>\n",
       "    <tr>\n",
       "      <th>...</th>\n",
       "      <td>...</td>\n",
       "      <td>...</td>\n",
       "    </tr>\n",
       "    <tr>\n",
       "      <th>2023-06-06 00:00:00-04:00</th>\n",
       "      <td>NaN</td>\n",
       "      <td>0.001874</td>\n",
       "    </tr>\n",
       "    <tr>\n",
       "      <th>2023-06-07 00:00:00-04:00</th>\n",
       "      <td>NaN</td>\n",
       "      <td>0.000992</td>\n",
       "    </tr>\n",
       "    <tr>\n",
       "      <th>2023-06-08 00:00:00-04:00</th>\n",
       "      <td>NaN</td>\n",
       "      <td>0.003941</td>\n",
       "    </tr>\n",
       "    <tr>\n",
       "      <th>2023-06-09 00:00:00-04:00</th>\n",
       "      <td>NaN</td>\n",
       "      <td>0.000456</td>\n",
       "    </tr>\n",
       "    <tr>\n",
       "      <th>2023-06-12 00:00:00-04:00</th>\n",
       "      <td>NaN</td>\n",
       "      <td>0.003648</td>\n",
       "    </tr>\n",
       "  </tbody>\n",
       "</table>\n",
       "<p>300 rows × 2 columns</p>\n",
       "</div>"
      ],
      "text/plain": [
       "                             actual  predictions\n",
       "Date                                            \n",
       "2022-04-01 00:00:00-04:00  0.014388     0.002436\n",
       "2022-04-04 00:00:00-04:00  0.006768     0.003706\n",
       "2022-04-05 00:00:00-04:00 -0.018309     0.000021\n",
       "2022-04-06 00:00:00-04:00 -0.020836     0.002480\n",
       "2022-04-07 00:00:00-04:00  0.005803     0.003040\n",
       "...                             ...          ...\n",
       "2023-06-06 00:00:00-04:00       NaN     0.001874\n",
       "2023-06-07 00:00:00-04:00       NaN     0.000992\n",
       "2023-06-08 00:00:00-04:00       NaN     0.003941\n",
       "2023-06-09 00:00:00-04:00       NaN     0.000456\n",
       "2023-06-12 00:00:00-04:00       NaN     0.003648\n",
       "\n",
       "[300 rows x 2 columns]"
      ]
     },
     "execution_count": 24,
     "metadata": {},
     "output_type": "execute_result"
    }
   ],
   "source": [
    "myResults"
   ]
  },
  {
   "cell_type": "code",
   "execution_count": 25,
   "id": "87abf58c",
   "metadata": {},
   "outputs": [
    {
     "data": {
      "text/plain": [
       "-0.004422688857987807"
      ]
     },
     "execution_count": 25,
     "metadata": {},
     "output_type": "execute_result"
    }
   ],
   "source": [
    "ourLow = myResults[\"predictions\"].min()\n",
    "ourLow"
   ]
  },
  {
   "cell_type": "code",
   "execution_count": 26,
   "id": "5f34fa68",
   "metadata": {},
   "outputs": [
    {
     "data": {
      "text/html": [
       "<div>\n",
       "<style scoped>\n",
       "    .dataframe tbody tr th:only-of-type {\n",
       "        vertical-align: middle;\n",
       "    }\n",
       "\n",
       "    .dataframe tbody tr th {\n",
       "        vertical-align: top;\n",
       "    }\n",
       "\n",
       "    .dataframe thead th {\n",
       "        text-align: right;\n",
       "    }\n",
       "</style>\n",
       "<table border=\"1\" class=\"dataframe\">\n",
       "  <thead>\n",
       "    <tr style=\"text-align: right;\">\n",
       "      <th></th>\n",
       "      <th>actual</th>\n",
       "      <th>predictions</th>\n",
       "    </tr>\n",
       "    <tr>\n",
       "      <th>Date</th>\n",
       "      <th></th>\n",
       "      <th></th>\n",
       "    </tr>\n",
       "  </thead>\n",
       "  <tbody>\n",
       "    <tr>\n",
       "      <th>2022-10-14 00:00:00-04:00</th>\n",
       "      <td>NaN</td>\n",
       "      <td>-0.004423</td>\n",
       "    </tr>\n",
       "  </tbody>\n",
       "</table>\n",
       "</div>"
      ],
      "text/plain": [
       "                           actual  predictions\n",
       "Date                                          \n",
       "2022-10-14 00:00:00-04:00     NaN    -0.004423"
      ]
     },
     "execution_count": 26,
     "metadata": {},
     "output_type": "execute_result"
    }
   ],
   "source": [
    "myResults.loc[myResults[\"predictions\"]==ourLow]"
   ]
  },
  {
   "cell_type": "code",
   "execution_count": 27,
   "id": "c3f1ee42",
   "metadata": {},
   "outputs": [
    {
     "data": {
      "text/plain": [
       "0.005824194855984573"
      ]
     },
     "execution_count": 27,
     "metadata": {},
     "output_type": "execute_result"
    }
   ],
   "source": [
    "ourHigh = myResults[\"predictions\"].max()\n",
    "ourHigh"
   ]
  },
  {
   "cell_type": "code",
   "execution_count": 28,
   "id": "7da8f084",
   "metadata": {},
   "outputs": [
    {
     "data": {
      "text/html": [
       "<div>\n",
       "<style scoped>\n",
       "    .dataframe tbody tr th:only-of-type {\n",
       "        vertical-align: middle;\n",
       "    }\n",
       "\n",
       "    .dataframe tbody tr th {\n",
       "        vertical-align: top;\n",
       "    }\n",
       "\n",
       "    .dataframe thead th {\n",
       "        text-align: right;\n",
       "    }\n",
       "</style>\n",
       "<table border=\"1\" class=\"dataframe\">\n",
       "  <thead>\n",
       "    <tr style=\"text-align: right;\">\n",
       "      <th></th>\n",
       "      <th>actual</th>\n",
       "      <th>predictions</th>\n",
       "    </tr>\n",
       "    <tr>\n",
       "      <th>Date</th>\n",
       "      <th></th>\n",
       "      <th></th>\n",
       "    </tr>\n",
       "  </thead>\n",
       "  <tbody>\n",
       "    <tr>\n",
       "      <th>2022-10-13 00:00:00-04:00</th>\n",
       "      <td>NaN</td>\n",
       "      <td>0.005824</td>\n",
       "    </tr>\n",
       "  </tbody>\n",
       "</table>\n",
       "</div>"
      ],
      "text/plain": [
       "                           actual  predictions\n",
       "Date                                          \n",
       "2022-10-13 00:00:00-04:00     NaN     0.005824"
      ]
     },
     "execution_count": 28,
     "metadata": {},
     "output_type": "execute_result"
    }
   ],
   "source": [
    "myResults.loc[myResults[\"predictions\"]==ourHigh]"
   ]
  },
  {
   "cell_type": "code",
   "execution_count": 29,
   "id": "eb572b0b",
   "metadata": {},
   "outputs": [],
   "source": [
    "lastYear = myResults.iloc[-250:]"
   ]
  },
  {
   "cell_type": "code",
   "execution_count": 30,
   "id": "9a2317fc",
   "metadata": {},
   "outputs": [
    {
     "data": {
      "text/html": [
       "<div>\n",
       "<style scoped>\n",
       "    .dataframe tbody tr th:only-of-type {\n",
       "        vertical-align: middle;\n",
       "    }\n",
       "\n",
       "    .dataframe tbody tr th {\n",
       "        vertical-align: top;\n",
       "    }\n",
       "\n",
       "    .dataframe thead th {\n",
       "        text-align: right;\n",
       "    }\n",
       "</style>\n",
       "<table border=\"1\" class=\"dataframe\">\n",
       "  <thead>\n",
       "    <tr style=\"text-align: right;\">\n",
       "      <th></th>\n",
       "      <th>actual</th>\n",
       "      <th>predictions</th>\n",
       "    </tr>\n",
       "    <tr>\n",
       "      <th>Date</th>\n",
       "      <th></th>\n",
       "      <th></th>\n",
       "    </tr>\n",
       "  </thead>\n",
       "  <tbody>\n",
       "    <tr>\n",
       "      <th>2022-06-14 00:00:00-04:00</th>\n",
       "      <td>NaN</td>\n",
       "      <td>0.003537</td>\n",
       "    </tr>\n",
       "    <tr>\n",
       "      <th>2022-06-15 00:00:00-04:00</th>\n",
       "      <td>NaN</td>\n",
       "      <td>0.002183</td>\n",
       "    </tr>\n",
       "    <tr>\n",
       "      <th>2022-06-16 00:00:00-04:00</th>\n",
       "      <td>NaN</td>\n",
       "      <td>0.000574</td>\n",
       "    </tr>\n",
       "    <tr>\n",
       "      <th>2022-06-17 00:00:00-04:00</th>\n",
       "      <td>NaN</td>\n",
       "      <td>0.002975</td>\n",
       "    </tr>\n",
       "    <tr>\n",
       "      <th>2022-06-21 00:00:00-04:00</th>\n",
       "      <td>NaN</td>\n",
       "      <td>0.001044</td>\n",
       "    </tr>\n",
       "    <tr>\n",
       "      <th>...</th>\n",
       "      <td>...</td>\n",
       "      <td>...</td>\n",
       "    </tr>\n",
       "    <tr>\n",
       "      <th>2023-06-06 00:00:00-04:00</th>\n",
       "      <td>NaN</td>\n",
       "      <td>0.001874</td>\n",
       "    </tr>\n",
       "    <tr>\n",
       "      <th>2023-06-07 00:00:00-04:00</th>\n",
       "      <td>NaN</td>\n",
       "      <td>0.000992</td>\n",
       "    </tr>\n",
       "    <tr>\n",
       "      <th>2023-06-08 00:00:00-04:00</th>\n",
       "      <td>NaN</td>\n",
       "      <td>0.003941</td>\n",
       "    </tr>\n",
       "    <tr>\n",
       "      <th>2023-06-09 00:00:00-04:00</th>\n",
       "      <td>NaN</td>\n",
       "      <td>0.000456</td>\n",
       "    </tr>\n",
       "    <tr>\n",
       "      <th>2023-06-12 00:00:00-04:00</th>\n",
       "      <td>NaN</td>\n",
       "      <td>0.003648</td>\n",
       "    </tr>\n",
       "  </tbody>\n",
       "</table>\n",
       "<p>250 rows × 2 columns</p>\n",
       "</div>"
      ],
      "text/plain": [
       "                           actual  predictions\n",
       "Date                                          \n",
       "2022-06-14 00:00:00-04:00     NaN     0.003537\n",
       "2022-06-15 00:00:00-04:00     NaN     0.002183\n",
       "2022-06-16 00:00:00-04:00     NaN     0.000574\n",
       "2022-06-17 00:00:00-04:00     NaN     0.002975\n",
       "2022-06-21 00:00:00-04:00     NaN     0.001044\n",
       "...                           ...          ...\n",
       "2023-06-06 00:00:00-04:00     NaN     0.001874\n",
       "2023-06-07 00:00:00-04:00     NaN     0.000992\n",
       "2023-06-08 00:00:00-04:00     NaN     0.003941\n",
       "2023-06-09 00:00:00-04:00     NaN     0.000456\n",
       "2023-06-12 00:00:00-04:00     NaN     0.003648\n",
       "\n",
       "[250 rows x 2 columns]"
      ]
     },
     "execution_count": 30,
     "metadata": {},
     "output_type": "execute_result"
    }
   ],
   "source": [
    "lastYear"
   ]
  },
  {
   "cell_type": "code",
   "execution_count": 31,
   "id": "f8672a0c",
   "metadata": {},
   "outputs": [
    {
     "data": {
      "text/plain": [
       "Date\n",
       "2022-06-14 00:00:00-04:00    0.003537\n",
       "2022-06-15 00:00:00-04:00    0.002183\n",
       "2022-06-16 00:00:00-04:00    0.000574\n",
       "2022-06-17 00:00:00-04:00    0.002975\n",
       "2022-06-21 00:00:00-04:00    0.001044\n",
       "                               ...   \n",
       "2023-06-06 00:00:00-04:00    0.001874\n",
       "2023-06-07 00:00:00-04:00    0.000992\n",
       "2023-06-08 00:00:00-04:00    0.003941\n",
       "2023-06-09 00:00:00-04:00    0.000456\n",
       "2023-06-12 00:00:00-04:00    0.003648\n",
       "Name: predictions, Length: 250, dtype: float64"
      ]
     },
     "execution_count": 31,
     "metadata": {},
     "output_type": "execute_result"
    }
   ],
   "source": [
    "lastYear[\"predictions\"]"
   ]
  },
  {
   "cell_type": "code",
   "execution_count": 32,
   "id": "9d494ce9",
   "metadata": {},
   "outputs": [
    {
     "data": {
      "text/plain": [
       "0.0018496013862738217"
      ]
     },
     "execution_count": 32,
     "metadata": {},
     "output_type": "execute_result"
    }
   ],
   "source": [
    "changeTarget = lastYear[\"predictions\"].mean()\n",
    "changeTarget"
   ]
  },
  {
   "cell_type": "code",
   "execution_count": 33,
   "id": "4786ac6f",
   "metadata": {},
   "outputs": [
    {
     "data": {
      "text/plain": [
       "1.5852888501920535"
      ]
     },
     "execution_count": 33,
     "metadata": {},
     "output_type": "execute_result"
    }
   ],
   "source": [
    "1.0018447660134118**250"
   ]
  },
  {
   "cell_type": "code",
   "execution_count": null,
   "id": "73832941",
   "metadata": {},
   "outputs": [],
   "source": []
  },
  {
   "cell_type": "code",
   "execution_count": null,
   "id": "1b1914f4",
   "metadata": {},
   "outputs": [],
   "source": []
  },
  {
   "cell_type": "code",
   "execution_count": null,
   "id": "4ff3c196",
   "metadata": {},
   "outputs": [],
   "source": []
  },
  {
   "cell_type": "code",
   "execution_count": null,
   "id": "94efc336",
   "metadata": {},
   "outputs": [],
   "source": []
  },
  {
   "cell_type": "code",
   "execution_count": null,
   "id": "2aaf3413",
   "metadata": {},
   "outputs": [],
   "source": []
  },
  {
   "cell_type": "code",
   "execution_count": null,
   "id": "923f8e53",
   "metadata": {},
   "outputs": [],
   "source": []
  },
  {
   "cell_type": "code",
   "execution_count": null,
   "id": "8b920eee",
   "metadata": {},
   "outputs": [],
   "source": []
  },
  {
   "cell_type": "code",
   "execution_count": null,
   "id": "86f727c3",
   "metadata": {},
   "outputs": [],
   "source": []
  },
  {
   "cell_type": "code",
   "execution_count": null,
   "id": "28d62e54",
   "metadata": {},
   "outputs": [],
   "source": []
  },
  {
   "cell_type": "code",
   "execution_count": null,
   "id": "a797313d",
   "metadata": {},
   "outputs": [],
   "source": []
  },
  {
   "cell_type": "code",
   "execution_count": null,
   "id": "6a6953a6",
   "metadata": {},
   "outputs": [],
   "source": []
  }
 ],
 "metadata": {
  "kernelspec": {
   "display_name": "Python 3 (ipykernel)",
   "language": "python",
   "name": "python3"
  },
  "language_info": {
   "codemirror_mode": {
    "name": "ipython",
    "version": 3
   },
   "file_extension": ".py",
   "mimetype": "text/x-python",
   "name": "python",
   "nbconvert_exporter": "python",
   "pygments_lexer": "ipython3",
   "version": "3.11.2"
  }
 },
 "nbformat": 4,
 "nbformat_minor": 5
}
