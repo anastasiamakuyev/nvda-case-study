{
 "cells": [
  {
   "cell_type": "code",
   "execution_count": 1,
   "id": "5a05b81d",
   "metadata": {},
   "outputs": [],
   "source": [
    "import yfinance as yf\n",
    "import pandas as pd"
   ]
  },
  {
   "cell_type": "code",
   "execution_count": 2,
   "id": "2d05268f",
   "metadata": {},
   "outputs": [],
   "source": [
    "nvda = yf.Ticker(\"NVDA\")"
   ]
  },
  {
   "cell_type": "code",
   "execution_count": 3,
   "id": "958c4683",
   "metadata": {},
   "outputs": [],
   "source": [
    "nvda = nvda.history(period=\"max\")"
   ]
  },
  {
   "cell_type": "code",
   "execution_count": 4,
   "id": "46a620d2",
   "metadata": {},
   "outputs": [
    {
     "data": {
      "text/html": [
       "<div>\n",
       "<style scoped>\n",
       "    .dataframe tbody tr th:only-of-type {\n",
       "        vertical-align: middle;\n",
       "    }\n",
       "\n",
       "    .dataframe tbody tr th {\n",
       "        vertical-align: top;\n",
       "    }\n",
       "\n",
       "    .dataframe thead th {\n",
       "        text-align: right;\n",
       "    }\n",
       "</style>\n",
       "<table border=\"1\" class=\"dataframe\">\n",
       "  <thead>\n",
       "    <tr style=\"text-align: right;\">\n",
       "      <th></th>\n",
       "      <th>Open</th>\n",
       "      <th>High</th>\n",
       "      <th>Low</th>\n",
       "      <th>Close</th>\n",
       "      <th>Volume</th>\n",
       "      <th>Dividends</th>\n",
       "      <th>Stock Splits</th>\n",
       "    </tr>\n",
       "    <tr>\n",
       "      <th>Date</th>\n",
       "      <th></th>\n",
       "      <th></th>\n",
       "      <th></th>\n",
       "      <th></th>\n",
       "      <th></th>\n",
       "      <th></th>\n",
       "      <th></th>\n",
       "    </tr>\n",
       "  </thead>\n",
       "  <tbody>\n",
       "    <tr>\n",
       "      <th>1999-01-22 00:00:00-05:00</th>\n",
       "      <td>0.401407</td>\n",
       "      <td>0.447998</td>\n",
       "      <td>0.356010</td>\n",
       "      <td>0.376319</td>\n",
       "      <td>271468800</td>\n",
       "      <td>0.0</td>\n",
       "      <td>0.0</td>\n",
       "    </tr>\n",
       "    <tr>\n",
       "      <th>1999-01-25 00:00:00-05:00</th>\n",
       "      <td>0.406185</td>\n",
       "      <td>0.420521</td>\n",
       "      <td>0.376319</td>\n",
       "      <td>0.415743</td>\n",
       "      <td>51048000</td>\n",
       "      <td>0.0</td>\n",
       "      <td>0.0</td>\n",
       "    </tr>\n",
       "    <tr>\n",
       "      <th>1999-01-26 00:00:00-05:00</th>\n",
       "      <td>0.420521</td>\n",
       "      <td>0.428884</td>\n",
       "      <td>0.377513</td>\n",
       "      <td>0.383487</td>\n",
       "      <td>34320000</td>\n",
       "      <td>0.0</td>\n",
       "      <td>0.0</td>\n",
       "    </tr>\n",
       "    <tr>\n",
       "      <th>1999-01-27 00:00:00-05:00</th>\n",
       "      <td>0.384682</td>\n",
       "      <td>0.394239</td>\n",
       "      <td>0.363177</td>\n",
       "      <td>0.382293</td>\n",
       "      <td>24436800</td>\n",
       "      <td>0.0</td>\n",
       "      <td>0.0</td>\n",
       "    </tr>\n",
       "    <tr>\n",
       "      <th>1999-01-28 00:00:00-05:00</th>\n",
       "      <td>0.382293</td>\n",
       "      <td>0.384682</td>\n",
       "      <td>0.378708</td>\n",
       "      <td>0.381098</td>\n",
       "      <td>22752000</td>\n",
       "      <td>0.0</td>\n",
       "      <td>0.0</td>\n",
       "    </tr>\n",
       "    <tr>\n",
       "      <th>...</th>\n",
       "      <td>...</td>\n",
       "      <td>...</td>\n",
       "      <td>...</td>\n",
       "      <td>...</td>\n",
       "      <td>...</td>\n",
       "      <td>...</td>\n",
       "      <td>...</td>\n",
       "    </tr>\n",
       "    <tr>\n",
       "      <th>2023-06-16 00:00:00-04:00</th>\n",
       "      <td>434.500000</td>\n",
       "      <td>437.209991</td>\n",
       "      <td>426.609985</td>\n",
       "      <td>426.920013</td>\n",
       "      <td>65475500</td>\n",
       "      <td>0.0</td>\n",
       "      <td>0.0</td>\n",
       "    </tr>\n",
       "    <tr>\n",
       "      <th>2023-06-20 00:00:00-04:00</th>\n",
       "      <td>429.980011</td>\n",
       "      <td>439.899994</td>\n",
       "      <td>426.739990</td>\n",
       "      <td>438.079987</td>\n",
       "      <td>45115300</td>\n",
       "      <td>0.0</td>\n",
       "      <td>0.0</td>\n",
       "    </tr>\n",
       "    <tr>\n",
       "      <th>2023-06-21 00:00:00-04:00</th>\n",
       "      <td>435.010010</td>\n",
       "      <td>436.149994</td>\n",
       "      <td>420.799988</td>\n",
       "      <td>430.450012</td>\n",
       "      <td>55160300</td>\n",
       "      <td>0.0</td>\n",
       "      <td>0.0</td>\n",
       "    </tr>\n",
       "    <tr>\n",
       "      <th>2023-06-22 00:00:00-04:00</th>\n",
       "      <td>422.529999</td>\n",
       "      <td>434.260010</td>\n",
       "      <td>422.339996</td>\n",
       "      <td>430.250000</td>\n",
       "      <td>41773700</td>\n",
       "      <td>0.0</td>\n",
       "      <td>0.0</td>\n",
       "    </tr>\n",
       "    <tr>\n",
       "      <th>2023-06-23 00:00:00-04:00</th>\n",
       "      <td>424.640015</td>\n",
       "      <td>428.089996</td>\n",
       "      <td>420.149994</td>\n",
       "      <td>422.089996</td>\n",
       "      <td>35632300</td>\n",
       "      <td>0.0</td>\n",
       "      <td>0.0</td>\n",
       "    </tr>\n",
       "  </tbody>\n",
       "</table>\n",
       "<p>6145 rows × 7 columns</p>\n",
       "</div>"
      ],
      "text/plain": [
       "                                 Open        High         Low       Close  \\\n",
       "Date                                                                        \n",
       "1999-01-22 00:00:00-05:00    0.401407    0.447998    0.356010    0.376319   \n",
       "1999-01-25 00:00:00-05:00    0.406185    0.420521    0.376319    0.415743   \n",
       "1999-01-26 00:00:00-05:00    0.420521    0.428884    0.377513    0.383487   \n",
       "1999-01-27 00:00:00-05:00    0.384682    0.394239    0.363177    0.382293   \n",
       "1999-01-28 00:00:00-05:00    0.382293    0.384682    0.378708    0.381098   \n",
       "...                               ...         ...         ...         ...   \n",
       "2023-06-16 00:00:00-04:00  434.500000  437.209991  426.609985  426.920013   \n",
       "2023-06-20 00:00:00-04:00  429.980011  439.899994  426.739990  438.079987   \n",
       "2023-06-21 00:00:00-04:00  435.010010  436.149994  420.799988  430.450012   \n",
       "2023-06-22 00:00:00-04:00  422.529999  434.260010  422.339996  430.250000   \n",
       "2023-06-23 00:00:00-04:00  424.640015  428.089996  420.149994  422.089996   \n",
       "\n",
       "                              Volume  Dividends  Stock Splits  \n",
       "Date                                                           \n",
       "1999-01-22 00:00:00-05:00  271468800        0.0           0.0  \n",
       "1999-01-25 00:00:00-05:00   51048000        0.0           0.0  \n",
       "1999-01-26 00:00:00-05:00   34320000        0.0           0.0  \n",
       "1999-01-27 00:00:00-05:00   24436800        0.0           0.0  \n",
       "1999-01-28 00:00:00-05:00   22752000        0.0           0.0  \n",
       "...                              ...        ...           ...  \n",
       "2023-06-16 00:00:00-04:00   65475500        0.0           0.0  \n",
       "2023-06-20 00:00:00-04:00   45115300        0.0           0.0  \n",
       "2023-06-21 00:00:00-04:00   55160300        0.0           0.0  \n",
       "2023-06-22 00:00:00-04:00   41773700        0.0           0.0  \n",
       "2023-06-23 00:00:00-04:00   35632300        0.0           0.0  \n",
       "\n",
       "[6145 rows x 7 columns]"
      ]
     },
     "execution_count": 4,
     "metadata": {},
     "output_type": "execute_result"
    }
   ],
   "source": [
    "nvda"
   ]
  },
  {
   "cell_type": "code",
   "execution_count": 5,
   "id": "e9e02908",
   "metadata": {},
   "outputs": [
    {
     "data": {
      "text/plain": [
       "DatetimeIndex(['1999-01-22 00:00:00-05:00', '1999-01-25 00:00:00-05:00',\n",
       "               '1999-01-26 00:00:00-05:00', '1999-01-27 00:00:00-05:00',\n",
       "               '1999-01-28 00:00:00-05:00', '1999-01-29 00:00:00-05:00',\n",
       "               '1999-02-01 00:00:00-05:00', '1999-02-02 00:00:00-05:00',\n",
       "               '1999-02-03 00:00:00-05:00', '1999-02-04 00:00:00-05:00',\n",
       "               ...\n",
       "               '2023-06-09 00:00:00-04:00', '2023-06-12 00:00:00-04:00',\n",
       "               '2023-06-13 00:00:00-04:00', '2023-06-14 00:00:00-04:00',\n",
       "               '2023-06-15 00:00:00-04:00', '2023-06-16 00:00:00-04:00',\n",
       "               '2023-06-20 00:00:00-04:00', '2023-06-21 00:00:00-04:00',\n",
       "               '2023-06-22 00:00:00-04:00', '2023-06-23 00:00:00-04:00'],\n",
       "              dtype='datetime64[ns, America/New_York]', name='Date', length=6145, freq=None)"
      ]
     },
     "execution_count": 5,
     "metadata": {},
     "output_type": "execute_result"
    }
   ],
   "source": [
    "nvda.index"
   ]
  },
  {
   "cell_type": "code",
   "execution_count": 6,
   "id": "2b046bf1",
   "metadata": {},
   "outputs": [
    {
     "data": {
      "text/plain": [
       "<Axes: xlabel='Date'>"
      ]
     },
     "execution_count": 6,
     "metadata": {},
     "output_type": "execute_result"
    },
    {
     "data": {
      "image/png": "[encoded data removed]",
      "text/plain": [
       "<Figure size 640x480 with 1 Axes>"
      ]
     },
     "metadata": {},
     "output_type": "display_data"
    }
   ],
   "source": [
    "nvda.plot.line(y=\"Close\", use_index=True)"
   ]
  },
  {
   "cell_type": "code",
   "execution_count": 7,
   "id": "8dd67ef4",
   "metadata": {},
   "outputs": [],
   "source": [
    "del nvda[\"Dividends\"]\n",
    "del nvda[\"Stock Splits\"]"
   ]
  },
  {
   "cell_type": "code",
   "execution_count": 8,
   "id": "7d3c02b6",
   "metadata": {},
   "outputs": [],
   "source": [
    "from sklearn.linear_model import Ridge\n",
    "\n",
    "reg = Ridge(alpha=.1)"
   ]
  },
  {
   "cell_type": "code",
   "execution_count": 9,
   "id": "3d38d035",
   "metadata": {},
   "outputs": [],
   "source": [
    "nvda[\"NextYear\"] = nvda[\"Close\"].shift(-250)"
   ]
  },
  {
   "cell_type": "code",
   "execution_count": 10,
   "id": "36e95891",
   "metadata": {},
   "outputs": [],
   "source": [
    "nvda[\"Target\"] = nvda[\"NextYear\"]"
   ]
  },
  {
   "cell_type": "code",
   "execution_count": 11,
   "id": "d64e4681",
   "metadata": {},
   "outputs": [],
   "source": [
    "from sklearn.linear_model import Ridge\n",
    "\n",
    "reg = Ridge(alpha=.1)"
   ]
  },
  {
   "cell_type": "code",
   "execution_count": null,
   "id": "db6c6168",
   "metadata": {},
   "outputs": [],
   "source": []
  },
  {
   "cell_type": "code",
   "execution_count": 12,
   "id": "5fe8c2c0",
   "metadata": {},
   "outputs": [],
   "source": [
    "predictors = [\"Close\", \"Volume\", \"Open\", \"High\", \"Low\"]"
   ]
  },
  {
   "cell_type": "code",
   "execution_count": 13,
   "id": "9755ecaf",
   "metadata": {},
   "outputs": [],
   "source": [
    "train = nvda.iloc[:-250]\n",
    "test = nvda"
   ]
  },
  {
   "cell_type": "code",
   "execution_count": 14,
   "id": "17eb8113",
   "metadata": {},
   "outputs": [
    {
     "name": "stderr",
     "output_type": "stream",
     "text": [
      "/Library/Frameworks/Python.framework/Versions/3.11/lib/python3.11/site-packages/sklearn/linear_model/_ridge.py:216: LinAlgWarning: Ill-conditioned matrix (rcond=8.41712e-17): result may not be accurate.\n",
      "  return linalg.solve(A, Xy, assume_a=\"pos\", overwrite_a=True).T\n"
     ]
    },
    {
     "data": {
      "text/html": [
       "<style>#sk-container-id-1 {color: black;background-color: white;}#sk-container-id-1 pre{padding: 0;}#sk-container-id-1 div.sk-toggleable {background-color: white;}#sk-container-id-1 label.sk-toggleable__label {cursor: pointer;display: block;width: 100%;margin-bottom: 0;padding: 0.3em;box-sizing: border-box;text-align: center;}#sk-container-id-1 label.sk-toggleable__label-arrow:before {content: \"▸\";float: left;margin-right: 0.25em;color: #696969;}#sk-container-id-1 label.sk-toggleable__label-arrow:hover:before {color: black;}#sk-container-id-1 div.sk-estimator:hover label.sk-toggleable__label-arrow:before {color: black;}#sk-container-id-1 div.sk-toggleable__content {max-height: 0;max-width: 0;overflow: hidden;text-align: left;background-color: #f0f8ff;}#sk-container-id-1 div.sk-toggleable__content pre {margin: 0.2em;color: black;border-radius: 0.25em;background-color: #f0f8ff;}#sk-container-id-1 input.sk-toggleable__control:checked~div.sk-toggleable__content {max-height: 200px;max-width: 100%;overflow: auto;}#sk-container-id-1 input.sk-toggleable__control:checked~label.sk-toggleable__label-arrow:before {content: \"▾\";}#sk-container-id-1 div.sk-estimator input.sk-toggleable__control:checked~label.sk-toggleable__label {background-color: #d4ebff;}#sk-container-id-1 div.sk-label input.sk-toggleable__control:checked~label.sk-toggleable__label {background-color: #d4ebff;}#sk-container-id-1 input.sk-hidden--visually {border: 0;clip: rect(1px 1px 1px 1px);clip: rect(1px, 1px, 1px, 1px);height: 1px;margin: -1px;overflow: hidden;padding: 0;position: absolute;width: 1px;}#sk-container-id-1 div.sk-estimator {font-family: monospace;background-color: #f0f8ff;border: 1px dotted black;border-radius: 0.25em;box-sizing: border-box;margin-bottom: 0.5em;}#sk-container-id-1 div.sk-estimator:hover {background-color: #d4ebff;}#sk-container-id-1 div.sk-parallel-item::after {content: \"\";width: 100%;border-bottom: 1px solid gray;flex-grow: 1;}#sk-container-id-1 div.sk-label:hover label.sk-toggleable__label {background-color: #d4ebff;}#sk-container-id-1 div.sk-serial::before {content: \"\";position: absolute;border-left: 1px solid gray;box-sizing: border-box;top: 0;bottom: 0;left: 50%;z-index: 0;}#sk-container-id-1 div.sk-serial {display: flex;flex-direction: column;align-items: center;background-color: white;padding-right: 0.2em;padding-left: 0.2em;position: relative;}#sk-container-id-1 div.sk-item {position: relative;z-index: 1;}#sk-container-id-1 div.sk-parallel {display: flex;align-items: stretch;justify-content: center;background-color: white;position: relative;}#sk-container-id-1 div.sk-item::before, #sk-container-id-1 div.sk-parallel-item::before {content: \"\";position: absolute;border-left: 1px solid gray;box-sizing: border-box;top: 0;bottom: 0;left: 50%;z-index: -1;}#sk-container-id-1 div.sk-parallel-item {display: flex;flex-direction: column;z-index: 1;position: relative;background-color: white;}#sk-container-id-1 div.sk-parallel-item:first-child::after {align-self: flex-end;width: 50%;}#sk-container-id-1 div.sk-parallel-item:last-child::after {align-self: flex-start;width: 50%;}#sk-container-id-1 div.sk-parallel-item:only-child::after {width: 0;}#sk-container-id-1 div.sk-dashed-wrapped {border: 1px dashed gray;margin: 0 0.4em 0.5em 0.4em;box-sizing: border-box;padding-bottom: 0.4em;background-color: white;}#sk-container-id-1 div.sk-label label {font-family: monospace;font-weight: bold;display: inline-block;line-height: 1.2em;}#sk-container-id-1 div.sk-label-container {text-align: center;}#sk-container-id-1 div.sk-container {/* jupyter's `normalize.less` sets `[hidden] { display: none; }` but bootstrap.min.css set `[hidden] { display: none !important; }` so we also need the `!important` here to be able to override the default hidden behavior on the sphinx rendered scikit-learn.org. See: https://github.com/scikit-learn/scikit-learn/issues/21755 */display: inline-block !important;position: relative;}#sk-container-id-1 div.sk-text-repr-fallback {display: none;}</style><div id=\"sk-container-id-1\" class=\"sk-top-container\"><div class=\"sk-text-repr-fallback\"><pre>Ridge(alpha=0.1)</pre><b>In a Jupyter environment, please rerun this cell to show the HTML representation or trust the notebook. <br />On GitHub, the HTML representation is unable to render, please try loading this page with nbviewer.org.</b></div><div class=\"sk-container\" hidden><div class=\"sk-item\"><div class=\"sk-estimator sk-toggleable\"><input class=\"sk-toggleable__control sk-hidden--visually\" id=\"sk-estimator-id-1\" type=\"checkbox\" checked><label for=\"sk-estimator-id-1\" class=\"sk-toggleable__label sk-toggleable__label-arrow\">Ridge</label><div class=\"sk-toggleable__content\"><pre>Ridge(alpha=0.1)</pre></div></div></div></div></div>"
      ],
      "text/plain": [
       "Ridge(alpha=0.1)"
      ]
     },
     "execution_count": 14,
     "metadata": {},
     "output_type": "execute_result"
    }
   ],
   "source": [
    "reg.fit(train[predictors],train[\"Target\"])"
   ]
  },
  {
   "cell_type": "code",
   "execution_count": 15,
   "id": "06effea8",
   "metadata": {},
   "outputs": [],
   "source": [
    "predictions = reg.predict(test[predictors])"
   ]
  },
  {
   "cell_type": "code",
   "execution_count": null,
   "id": "ad9bc8c4",
   "metadata": {},
   "outputs": [],
   "source": []
  },
  {
   "cell_type": "code",
   "execution_count": null,
   "id": "bac930c6",
   "metadata": {},
   "outputs": [],
   "source": []
  },
  {
   "cell_type": "code",
   "execution_count": 16,
   "id": "9435a772",
   "metadata": {},
   "outputs": [],
   "source": [
    "combined = pd.concat([test[\"Target\"], pd.Series(predictions, index=test.index)], axis=1)"
   ]
  },
  {
   "cell_type": "code",
   "execution_count": 17,
   "id": "266b3c9e",
   "metadata": {},
   "outputs": [],
   "source": [
    "combined.columns = [\"actual\", \"predictions\"]"
   ]
  },
  {
   "cell_type": "code",
   "execution_count": 18,
   "id": "5ff4e85c",
   "metadata": {},
   "outputs": [
    {
     "data": {
      "text/html": [
       "<div>\n",
       "<style scoped>\n",
       "    .dataframe tbody tr th:only-of-type {\n",
       "        vertical-align: middle;\n",
       "    }\n",
       "\n",
       "    .dataframe tbody tr th {\n",
       "        vertical-align: top;\n",
       "    }\n",
       "\n",
       "    .dataframe thead th {\n",
       "        text-align: right;\n",
       "    }\n",
       "</style>\n",
       "<table border=\"1\" class=\"dataframe\">\n",
       "  <thead>\n",
       "    <tr style=\"text-align: right;\">\n",
       "      <th></th>\n",
       "      <th>actual</th>\n",
       "      <th>predictions</th>\n",
       "    </tr>\n",
       "    <tr>\n",
       "      <th>Date</th>\n",
       "      <th></th>\n",
       "      <th></th>\n",
       "    </tr>\n",
       "  </thead>\n",
       "  <tbody>\n",
       "    <tr>\n",
       "      <th>1999-01-22 00:00:00-05:00</th>\n",
       "      <td>0.867326</td>\n",
       "      <td>-3.631189</td>\n",
       "    </tr>\n",
       "    <tr>\n",
       "      <th>1999-01-25 00:00:00-05:00</th>\n",
       "      <td>0.864936</td>\n",
       "      <td>8.419432</td>\n",
       "    </tr>\n",
       "    <tr>\n",
       "      <th>1999-01-26 00:00:00-05:00</th>\n",
       "      <td>0.855379</td>\n",
       "      <td>9.300699</td>\n",
       "    </tr>\n",
       "    <tr>\n",
       "      <th>1999-01-27 00:00:00-05:00</th>\n",
       "      <td>0.817150</td>\n",
       "      <td>9.862716</td>\n",
       "    </tr>\n",
       "    <tr>\n",
       "      <th>1999-01-28 00:00:00-05:00</th>\n",
       "      <td>0.809982</td>\n",
       "      <td>10.005052</td>\n",
       "    </tr>\n",
       "    <tr>\n",
       "      <th>...</th>\n",
       "      <td>...</td>\n",
       "      <td>...</td>\n",
       "    </tr>\n",
       "    <tr>\n",
       "      <th>2023-06-16 00:00:00-04:00</th>\n",
       "      <td>NaN</td>\n",
       "      <td>468.359489</td>\n",
       "    </tr>\n",
       "    <tr>\n",
       "      <th>2023-06-20 00:00:00-04:00</th>\n",
       "      <td>NaN</td>\n",
       "      <td>475.057340</td>\n",
       "    </tr>\n",
       "    <tr>\n",
       "      <th>2023-06-21 00:00:00-04:00</th>\n",
       "      <td>NaN</td>\n",
       "      <td>455.078321</td>\n",
       "    </tr>\n",
       "    <tr>\n",
       "      <th>2023-06-22 00:00:00-04:00</th>\n",
       "      <td>NaN</td>\n",
       "      <td>473.274954</td>\n",
       "    </tr>\n",
       "    <tr>\n",
       "      <th>2023-06-23 00:00:00-04:00</th>\n",
       "      <td>NaN</td>\n",
       "      <td>468.711724</td>\n",
       "    </tr>\n",
       "  </tbody>\n",
       "</table>\n",
       "<p>6145 rows × 2 columns</p>\n",
       "</div>"
      ],
      "text/plain": [
       "                             actual  predictions\n",
       "Date                                            \n",
       "1999-01-22 00:00:00-05:00  0.867326    -3.631189\n",
       "1999-01-25 00:00:00-05:00  0.864936     8.419432\n",
       "1999-01-26 00:00:00-05:00  0.855379     9.300699\n",
       "1999-01-27 00:00:00-05:00  0.817150     9.862716\n",
       "1999-01-28 00:00:00-05:00  0.809982    10.005052\n",
       "...                             ...          ...\n",
       "2023-06-16 00:00:00-04:00       NaN   468.359489\n",
       "2023-06-20 00:00:00-04:00       NaN   475.057340\n",
       "2023-06-21 00:00:00-04:00       NaN   455.078321\n",
       "2023-06-22 00:00:00-04:00       NaN   473.274954\n",
       "2023-06-23 00:00:00-04:00       NaN   468.711724\n",
       "\n",
       "[6145 rows x 2 columns]"
      ]
     },
     "execution_count": 18,
     "metadata": {},
     "output_type": "execute_result"
    }
   ],
   "source": [
    "combined"
   ]
  },
  {
   "cell_type": "code",
   "execution_count": 19,
   "id": "7e498827",
   "metadata": {
    "scrolled": true
   },
   "outputs": [
    {
     "data": {
      "text/plain": [
       "<Axes: xlabel='Date'>"
      ]
     },
     "execution_count": 19,
     "metadata": {},
     "output_type": "execute_result"
    },
    {
     "data": {
      "image/png": "[encoded data removed]",
      "text/plain": [
       "<Figure size 640x480 with 1 Axes>"
      ]
     },
     "metadata": {},
     "output_type": "display_data"
    }
   ],
   "source": [
    "combined.plot()"
   ]
  },
  {
   "cell_type": "code",
   "execution_count": 20,
   "id": "edbac2ff",
   "metadata": {},
   "outputs": [],
   "source": [
    "myResults = combined.iloc[-300:]"
   ]
  },
  {
   "cell_type": "code",
   "execution_count": 21,
   "id": "1b7a1baa",
   "metadata": {},
   "outputs": [
    {
     "data": {
      "text/plain": [
       "<Axes: xlabel='Date'>"
      ]
     },
     "execution_count": 21,
     "metadata": {},
     "output_type": "execute_result"
    },
    {
     "data": {
      "image/png": "[encoded data removed]",
      "text/plain": [
       "<Figure size 640x480 with 1 Axes>"
      ]
     },
     "metadata": {},
     "output_type": "display_data"
    }
   ],
   "source": [
    "myResults.plot()"
   ]
  },
  {
   "cell_type": "code",
   "execution_count": 22,
   "id": "df21a60d",
   "metadata": {},
   "outputs": [
    {
     "data": {
      "text/html": [
       "<div>\n",
       "<style scoped>\n",
       "    .dataframe tbody tr th:only-of-type {\n",
       "        vertical-align: middle;\n",
       "    }\n",
       "\n",
       "    .dataframe tbody tr th {\n",
       "        vertical-align: top;\n",
       "    }\n",
       "\n",
       "    .dataframe thead th {\n",
       "        text-align: right;\n",
       "    }\n",
       "</style>\n",
       "<table border=\"1\" class=\"dataframe\">\n",
       "  <thead>\n",
       "    <tr style=\"text-align: right;\">\n",
       "      <th></th>\n",
       "      <th>actual</th>\n",
       "      <th>predictions</th>\n",
       "    </tr>\n",
       "    <tr>\n",
       "      <th>Date</th>\n",
       "      <th></th>\n",
       "      <th></th>\n",
       "    </tr>\n",
       "  </thead>\n",
       "  <tbody>\n",
       "    <tr>\n",
       "      <th>2022-04-13 00:00:00-04:00</th>\n",
       "      <td>264.602631</td>\n",
       "      <td>238.626679</td>\n",
       "    </tr>\n",
       "    <tr>\n",
       "      <th>2022-04-14 00:00:00-04:00</th>\n",
       "      <td>267.552307</td>\n",
       "      <td>218.209110</td>\n",
       "    </tr>\n",
       "    <tr>\n",
       "      <th>2022-04-18 00:00:00-04:00</th>\n",
       "      <td>269.992035</td>\n",
       "      <td>235.997628</td>\n",
       "    </tr>\n",
       "    <tr>\n",
       "      <th>2022-04-19 00:00:00-04:00</th>\n",
       "      <td>276.641388</td>\n",
       "      <td>236.083025</td>\n",
       "    </tr>\n",
       "    <tr>\n",
       "      <th>2022-04-20 00:00:00-04:00</th>\n",
       "      <td>279.281097</td>\n",
       "      <td>221.164370</td>\n",
       "    </tr>\n",
       "    <tr>\n",
       "      <th>...</th>\n",
       "      <td>...</td>\n",
       "      <td>...</td>\n",
       "    </tr>\n",
       "    <tr>\n",
       "      <th>2023-06-16 00:00:00-04:00</th>\n",
       "      <td>NaN</td>\n",
       "      <td>468.359489</td>\n",
       "    </tr>\n",
       "    <tr>\n",
       "      <th>2023-06-20 00:00:00-04:00</th>\n",
       "      <td>NaN</td>\n",
       "      <td>475.057340</td>\n",
       "    </tr>\n",
       "    <tr>\n",
       "      <th>2023-06-21 00:00:00-04:00</th>\n",
       "      <td>NaN</td>\n",
       "      <td>455.078321</td>\n",
       "    </tr>\n",
       "    <tr>\n",
       "      <th>2023-06-22 00:00:00-04:00</th>\n",
       "      <td>NaN</td>\n",
       "      <td>473.274954</td>\n",
       "    </tr>\n",
       "    <tr>\n",
       "      <th>2023-06-23 00:00:00-04:00</th>\n",
       "      <td>NaN</td>\n",
       "      <td>468.711724</td>\n",
       "    </tr>\n",
       "  </tbody>\n",
       "</table>\n",
       "<p>300 rows × 2 columns</p>\n",
       "</div>"
      ],
      "text/plain": [
       "                               actual  predictions\n",
       "Date                                              \n",
       "2022-04-13 00:00:00-04:00  264.602631   238.626679\n",
       "2022-04-14 00:00:00-04:00  267.552307   218.209110\n",
       "2022-04-18 00:00:00-04:00  269.992035   235.997628\n",
       "2022-04-19 00:00:00-04:00  276.641388   236.083025\n",
       "2022-04-20 00:00:00-04:00  279.281097   221.164370\n",
       "...                               ...          ...\n",
       "2023-06-16 00:00:00-04:00         NaN   468.359489\n",
       "2023-06-20 00:00:00-04:00         NaN   475.057340\n",
       "2023-06-21 00:00:00-04:00         NaN   455.078321\n",
       "2023-06-22 00:00:00-04:00         NaN   473.274954\n",
       "2023-06-23 00:00:00-04:00         NaN   468.711724\n",
       "\n",
       "[300 rows x 2 columns]"
      ]
     },
     "execution_count": 22,
     "metadata": {},
     "output_type": "execute_result"
    }
   ],
   "source": [
    "myResults"
   ]
  },
  {
   "cell_type": "code",
   "execution_count": 23,
   "id": "87abf58c",
   "metadata": {},
   "outputs": [
    {
     "data": {
      "text/plain": [
       "116.5562340503864"
      ]
     },
     "execution_count": 23,
     "metadata": {},
     "output_type": "execute_result"
    }
   ],
   "source": [
    "ourLow = myResults[\"predictions\"].min()\n",
    "ourLow"
   ]
  },
  {
   "cell_type": "code",
   "execution_count": 24,
   "id": "5f34fa68",
   "metadata": {},
   "outputs": [
    {
     "data": {
      "text/html": [
       "<div>\n",
       "<style scoped>\n",
       "    .dataframe tbody tr th:only-of-type {\n",
       "        vertical-align: middle;\n",
       "    }\n",
       "\n",
       "    .dataframe tbody tr th {\n",
       "        vertical-align: top;\n",
       "    }\n",
       "\n",
       "    .dataframe thead th {\n",
       "        text-align: right;\n",
       "    }\n",
       "</style>\n",
       "<table border=\"1\" class=\"dataframe\">\n",
       "  <thead>\n",
       "    <tr style=\"text-align: right;\">\n",
       "      <th></th>\n",
       "      <th>actual</th>\n",
       "      <th>predictions</th>\n",
       "    </tr>\n",
       "    <tr>\n",
       "      <th>Date</th>\n",
       "      <th></th>\n",
       "      <th></th>\n",
       "    </tr>\n",
       "  </thead>\n",
       "  <tbody>\n",
       "    <tr>\n",
       "      <th>2022-10-14 00:00:00-04:00</th>\n",
       "      <td>NaN</td>\n",
       "      <td>116.556234</td>\n",
       "    </tr>\n",
       "  </tbody>\n",
       "</table>\n",
       "</div>"
      ],
      "text/plain": [
       "                           actual  predictions\n",
       "Date                                          \n",
       "2022-10-14 00:00:00-04:00     NaN   116.556234"
      ]
     },
     "execution_count": 24,
     "metadata": {},
     "output_type": "execute_result"
    }
   ],
   "source": [
    "myResults.loc[myResults[\"predictions\"]==ourLow]"
   ]
  },
  {
   "cell_type": "code",
   "execution_count": 25,
   "id": "c3f1ee42",
   "metadata": {},
   "outputs": [
    {
     "data": {
      "text/plain": [
       "475.0573401146864"
      ]
     },
     "execution_count": 25,
     "metadata": {},
     "output_type": "execute_result"
    }
   ],
   "source": [
    "ourHigh = myResults[\"predictions\"].max()\n",
    "ourHigh"
   ]
  },
  {
   "cell_type": "code",
   "execution_count": 26,
   "id": "7da8f084",
   "metadata": {},
   "outputs": [
    {
     "data": {
      "text/html": [
       "<div>\n",
       "<style scoped>\n",
       "    .dataframe tbody tr th:only-of-type {\n",
       "        vertical-align: middle;\n",
       "    }\n",
       "\n",
       "    .dataframe tbody tr th {\n",
       "        vertical-align: top;\n",
       "    }\n",
       "\n",
       "    .dataframe thead th {\n",
       "        text-align: right;\n",
       "    }\n",
       "</style>\n",
       "<table border=\"1\" class=\"dataframe\">\n",
       "  <thead>\n",
       "    <tr style=\"text-align: right;\">\n",
       "      <th></th>\n",
       "      <th>actual</th>\n",
       "      <th>predictions</th>\n",
       "    </tr>\n",
       "    <tr>\n",
       "      <th>Date</th>\n",
       "      <th></th>\n",
       "      <th></th>\n",
       "    </tr>\n",
       "  </thead>\n",
       "  <tbody>\n",
       "    <tr>\n",
       "      <th>2023-06-20 00:00:00-04:00</th>\n",
       "      <td>NaN</td>\n",
       "      <td>475.05734</td>\n",
       "    </tr>\n",
       "  </tbody>\n",
       "</table>\n",
       "</div>"
      ],
      "text/plain": [
       "                           actual  predictions\n",
       "Date                                          \n",
       "2023-06-20 00:00:00-04:00     NaN    475.05734"
      ]
     },
     "execution_count": 26,
     "metadata": {},
     "output_type": "execute_result"
    }
   ],
   "source": [
    "myResults.loc[myResults[\"predictions\"]==ourHigh]"
   ]
  },
  {
   "cell_type": "code",
   "execution_count": 27,
   "id": "eb572b0b",
   "metadata": {},
   "outputs": [],
   "source": [
    "lastMonth = myResults.iloc[-20:]"
   ]
  },
  {
   "cell_type": "code",
   "execution_count": 28,
   "id": "9a2317fc",
   "metadata": {},
   "outputs": [
    {
     "data": {
      "text/html": [
       "<div>\n",
       "<style scoped>\n",
       "    .dataframe tbody tr th:only-of-type {\n",
       "        vertical-align: middle;\n",
       "    }\n",
       "\n",
       "    .dataframe tbody tr th {\n",
       "        vertical-align: top;\n",
       "    }\n",
       "\n",
       "    .dataframe thead th {\n",
       "        text-align: right;\n",
       "    }\n",
       "</style>\n",
       "<table border=\"1\" class=\"dataframe\">\n",
       "  <thead>\n",
       "    <tr style=\"text-align: right;\">\n",
       "      <th></th>\n",
       "      <th>actual</th>\n",
       "      <th>predictions</th>\n",
       "    </tr>\n",
       "    <tr>\n",
       "      <th>Date</th>\n",
       "      <th></th>\n",
       "      <th></th>\n",
       "    </tr>\n",
       "  </thead>\n",
       "  <tbody>\n",
       "    <tr>\n",
       "      <th>2023-05-25 00:00:00-04:00</th>\n",
       "      <td>NaN</td>\n",
       "      <td>374.256703</td>\n",
       "    </tr>\n",
       "    <tr>\n",
       "      <th>2023-05-26 00:00:00-04:00</th>\n",
       "      <td>NaN</td>\n",
       "      <td>414.262724</td>\n",
       "    </tr>\n",
       "    <tr>\n",
       "      <th>2023-05-30 00:00:00-04:00</th>\n",
       "      <td>NaN</td>\n",
       "      <td>430.365622</td>\n",
       "    </tr>\n",
       "    <tr>\n",
       "      <th>2023-05-31 00:00:00-04:00</th>\n",
       "      <td>NaN</td>\n",
       "      <td>391.888438</td>\n",
       "    </tr>\n",
       "    <tr>\n",
       "      <th>2023-06-01 00:00:00-04:00</th>\n",
       "      <td>NaN</td>\n",
       "      <td>424.683259</td>\n",
       "    </tr>\n",
       "    <tr>\n",
       "      <th>2023-06-02 00:00:00-04:00</th>\n",
       "      <td>NaN</td>\n",
       "      <td>423.999657</td>\n",
       "    </tr>\n",
       "    <tr>\n",
       "      <th>2023-06-05 00:00:00-04:00</th>\n",
       "      <td>NaN</td>\n",
       "      <td>434.015412</td>\n",
       "    </tr>\n",
       "    <tr>\n",
       "      <th>2023-06-06 00:00:00-04:00</th>\n",
       "      <td>NaN</td>\n",
       "      <td>422.047990</td>\n",
       "    </tr>\n",
       "    <tr>\n",
       "      <th>2023-06-07 00:00:00-04:00</th>\n",
       "      <td>NaN</td>\n",
       "      <td>393.501896</td>\n",
       "    </tr>\n",
       "    <tr>\n",
       "      <th>2023-06-08 00:00:00-04:00</th>\n",
       "      <td>NaN</td>\n",
       "      <td>417.644275</td>\n",
       "    </tr>\n",
       "    <tr>\n",
       "      <th>2023-06-09 00:00:00-04:00</th>\n",
       "      <td>NaN</td>\n",
       "      <td>426.592888</td>\n",
       "    </tr>\n",
       "    <tr>\n",
       "      <th>2023-06-12 00:00:00-04:00</th>\n",
       "      <td>NaN</td>\n",
       "      <td>430.187125</td>\n",
       "    </tr>\n",
       "    <tr>\n",
       "      <th>2023-06-13 00:00:00-04:00</th>\n",
       "      <td>NaN</td>\n",
       "      <td>440.223738</td>\n",
       "    </tr>\n",
       "    <tr>\n",
       "      <th>2023-06-14 00:00:00-04:00</th>\n",
       "      <td>NaN</td>\n",
       "      <td>444.427191</td>\n",
       "    </tr>\n",
       "    <tr>\n",
       "      <th>2023-06-15 00:00:00-04:00</th>\n",
       "      <td>NaN</td>\n",
       "      <td>466.932016</td>\n",
       "    </tr>\n",
       "    <tr>\n",
       "      <th>2023-06-16 00:00:00-04:00</th>\n",
       "      <td>NaN</td>\n",
       "      <td>468.359489</td>\n",
       "    </tr>\n",
       "    <tr>\n",
       "      <th>2023-06-20 00:00:00-04:00</th>\n",
       "      <td>NaN</td>\n",
       "      <td>475.057340</td>\n",
       "    </tr>\n",
       "    <tr>\n",
       "      <th>2023-06-21 00:00:00-04:00</th>\n",
       "      <td>NaN</td>\n",
       "      <td>455.078321</td>\n",
       "    </tr>\n",
       "    <tr>\n",
       "      <th>2023-06-22 00:00:00-04:00</th>\n",
       "      <td>NaN</td>\n",
       "      <td>473.274954</td>\n",
       "    </tr>\n",
       "    <tr>\n",
       "      <th>2023-06-23 00:00:00-04:00</th>\n",
       "      <td>NaN</td>\n",
       "      <td>468.711724</td>\n",
       "    </tr>\n",
       "  </tbody>\n",
       "</table>\n",
       "</div>"
      ],
      "text/plain": [
       "                           actual  predictions\n",
       "Date                                          \n",
       "2023-05-25 00:00:00-04:00     NaN   374.256703\n",
       "2023-05-26 00:00:00-04:00     NaN   414.262724\n",
       "2023-05-30 00:00:00-04:00     NaN   430.365622\n",
       "2023-05-31 00:00:00-04:00     NaN   391.888438\n",
       "2023-06-01 00:00:00-04:00     NaN   424.683259\n",
       "2023-06-02 00:00:00-04:00     NaN   423.999657\n",
       "2023-06-05 00:00:00-04:00     NaN   434.015412\n",
       "2023-06-06 00:00:00-04:00     NaN   422.047990\n",
       "2023-06-07 00:00:00-04:00     NaN   393.501896\n",
       "2023-06-08 00:00:00-04:00     NaN   417.644275\n",
       "2023-06-09 00:00:00-04:00     NaN   426.592888\n",
       "2023-06-12 00:00:00-04:00     NaN   430.187125\n",
       "2023-06-13 00:00:00-04:00     NaN   440.223738\n",
       "2023-06-14 00:00:00-04:00     NaN   444.427191\n",
       "2023-06-15 00:00:00-04:00     NaN   466.932016\n",
       "2023-06-16 00:00:00-04:00     NaN   468.359489\n",
       "2023-06-20 00:00:00-04:00     NaN   475.057340\n",
       "2023-06-21 00:00:00-04:00     NaN   455.078321\n",
       "2023-06-22 00:00:00-04:00     NaN   473.274954\n",
       "2023-06-23 00:00:00-04:00     NaN   468.711724"
      ]
     },
     "execution_count": 28,
     "metadata": {},
     "output_type": "execute_result"
    }
   ],
   "source": [
    "lastMonth"
   ]
  },
  {
   "cell_type": "code",
   "execution_count": 29,
   "id": "f8672a0c",
   "metadata": {},
   "outputs": [
    {
     "data": {
      "text/plain": [
       "Date\n",
       "2023-05-25 00:00:00-04:00    374.256703\n",
       "2023-05-26 00:00:00-04:00    414.262724\n",
       "2023-05-30 00:00:00-04:00    430.365622\n",
       "2023-05-31 00:00:00-04:00    391.888438\n",
       "2023-06-01 00:00:00-04:00    424.683259\n",
       "2023-06-02 00:00:00-04:00    423.999657\n",
       "2023-06-05 00:00:00-04:00    434.015412\n",
       "2023-06-06 00:00:00-04:00    422.047990\n",
       "2023-06-07 00:00:00-04:00    393.501896\n",
       "2023-06-08 00:00:00-04:00    417.644275\n",
       "2023-06-09 00:00:00-04:00    426.592888\n",
       "2023-06-12 00:00:00-04:00    430.187125\n",
       "2023-06-13 00:00:00-04:00    440.223738\n",
       "2023-06-14 00:00:00-04:00    444.427191\n",
       "2023-06-15 00:00:00-04:00    466.932016\n",
       "2023-06-16 00:00:00-04:00    468.359489\n",
       "2023-06-20 00:00:00-04:00    475.057340\n",
       "2023-06-21 00:00:00-04:00    455.078321\n",
       "2023-06-22 00:00:00-04:00    473.274954\n",
       "2023-06-23 00:00:00-04:00    468.711724\n",
       "Name: predictions, dtype: float64"
      ]
     },
     "execution_count": 29,
     "metadata": {},
     "output_type": "execute_result"
    }
   ],
   "source": [
    "lastMonth[\"predictions\"]"
   ]
  },
  {
   "cell_type": "code",
   "execution_count": 30,
   "id": "9d494ce9",
   "metadata": {},
   "outputs": [
    {
     "data": {
      "text/plain": [
       "433.77553809043593"
      ]
     },
     "execution_count": 30,
     "metadata": {},
     "output_type": "execute_result"
    }
   ],
   "source": [
    "priceTarget = lastMonth[\"predictions\"].mean()\n",
    "priceTarget"
   ]
  },
  {
   "cell_type": "code",
   "execution_count": null,
   "id": "4786ac6f",
   "metadata": {},
   "outputs": [],
   "source": []
  },
  {
   "cell_type": "code",
   "execution_count": null,
   "id": "73832941",
   "metadata": {},
   "outputs": [],
   "source": []
  },
  {
   "cell_type": "code",
   "execution_count": null,
   "id": "1b1914f4",
   "metadata": {},
   "outputs": [],
   "source": []
  },
  {
   "cell_type": "code",
   "execution_count": null,
   "id": "4ff3c196",
   "metadata": {},
   "outputs": [],
   "source": []
  },
  {
   "cell_type": "code",
   "execution_count": null,
   "id": "94efc336",
   "metadata": {},
   "outputs": [],
   "source": []
  },
  {
   "cell_type": "code",
   "execution_count": null,
   "id": "2aaf3413",
   "metadata": {},
   "outputs": [],
   "source": []
  },
  {
   "cell_type": "code",
   "execution_count": null,
   "id": "923f8e53",
   "metadata": {},
   "outputs": [],
   "source": []
  },
  {
   "cell_type": "code",
   "execution_count": null,
   "id": "8b920eee",
   "metadata": {},
   "outputs": [],
   "source": []
  },
  {
   "cell_type": "code",
   "execution_count": null,
   "id": "86f727c3",
   "metadata": {},
   "outputs": [],
   "source": []
  },
  {
   "cell_type": "code",
   "execution_count": null,
   "id": "28d62e54",
   "metadata": {},
   "outputs": [],
   "source": []
  },
  {
   "cell_type": "code",
   "execution_count": null,
   "id": "a797313d",
   "metadata": {},
   "outputs": [],
   "source": []
  }
 ],
 "metadata": {
  "kernelspec": {
   "display_name": "Python 3 (ipykernel)",
   "language": "python",
   "name": "python3"
  },
  "language_info": {
   "codemirror_mode": {
    "name": "ipython",
    "version": 3
   },
   "file_extension": ".py",
   "mimetype": "text/x-python",
   "name": "python",
   "nbconvert_exporter": "python",
   "pygments_lexer": "ipython3",
   "version": "3.11.2"
  }
 },
 "nbformat": 4,
 "nbformat_minor": 5
}
